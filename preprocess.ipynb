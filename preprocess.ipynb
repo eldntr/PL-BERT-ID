{
 "cells": [
  {
   "cell_type": "markdown",
   "id": "c1d31f54",
   "metadata": {},
   "source": [
    "# Notebook for preprocessing Wikipedia (Indonesia) dataset"
   ]
  },
  {
   "cell_type": "markdown",
   "id": "21eb8ed4",
   "metadata": {},
   "source": [
    "### Initilizing phonemizer and tokenizer"
   ]
  },
  {
   "cell_type": "code",
   "execution_count": 1,
   "id": "d6ca5ee4",
   "metadata": {},
   "outputs": [],
   "source": [
    "import yaml\n",
    "\n",
    "config_path = \"Configs/config.yml\" # you can change it to anything else\n",
    "config = yaml.safe_load(open(config_path))"
   ]
  },
  {
   "cell_type": "code",
   "execution_count": 2,
   "id": "b52b79ee",
   "metadata": {},
   "outputs": [],
   "source": [
    "import sys\n",
    "sys.path.insert(0, '/workspace/src/PL-BERT-ID')\n",
    "from phonemize import phonemize, EnIndPhonemizer"
   ]
  },
  {
   "cell_type": "code",
   "execution_count": 3,
   "id": "2b363b0a",
   "metadata": {},
   "outputs": [],
   "source": [
    "global_phonemizer = EnIndPhonemizer(ipa=True, keep_stress=True, sep=\"\")"
   ]
  },
  {
   "cell_type": "code",
   "execution_count": 4,
   "id": "aeefa759",
   "metadata": {},
   "outputs": [],
   "source": [
    "import os\n",
    "os.environ['TRUST_REMOTE_CODE'] = 'True'"
   ]
  },
  {
   "cell_type": "code",
   "execution_count": 5,
   "id": "92d58c92",
   "metadata": {},
   "outputs": [
    {
     "name": "stderr",
     "output_type": "stream",
     "text": [
      "/workspace/src/PL-BERT-ID/.venv/lib/python3.13/site-packages/tqdm/auto.py:21: TqdmWarning: IProgress not found. Please update jupyter and ipywidgets. See https://ipywidgets.readthedocs.io/en/stable/user_install.html\n",
      "  from .autonotebook import tqdm as notebook_tqdm\n",
      "`TransfoXL` was deprecated due to security issues linked to `pickle.load` in `TransfoXLTokenizer`. See more details on this model's documentation page: `https://github.com/huggingface/transformers/blob/main/docs/source/en/model_doc/transfo-xl.md`.\n"
     ]
    }
   ],
   "source": [
    "from transformers import TransfoXLTokenizer\n",
    "tokenizer = TransfoXLTokenizer.from_pretrained(config['dataset_params']['tokenizer']) # you can use any other tokenizers if you want to"
   ]
  },
  {
   "cell_type": "markdown",
   "id": "2eb25417",
   "metadata": {},
   "source": [
    "### Process dataset"
   ]
  },
  {
   "cell_type": "markdown",
   "id": "aeb456f6",
   "metadata": {},
   "source": [
    "Since using load_dataset with the Indonesian Wikipedia (id) resulted in errors (e.g., \"Not Found\"), we will download and load the dataset manually.\n",
    "\n",
    "You can download the dataset from this link: https://huggingface.co/datasets/wikimedia/wikipedia/tree/main/20231101.id."
   ]
  },
  {
   "cell_type": "code",
   "execution_count": 6,
   "id": "25e5ae16",
   "metadata": {
    "scrolled": true
   },
   "outputs": [
    {
     "name": "stdout",
     "output_type": "stream",
     "text": [
      "Dataset loaded successfully!\n",
      "Dataset({\n",
      "    features: ['id', 'url', 'title', 'text'],\n",
      "    num_rows: 665622\n",
      "})\n"
     ]
    }
   ],
   "source": [
    "from datasets import load_dataset\n",
    "\n",
    "# Use a glob pattern to load all Parquet files in the 'wikipedia' folder.\n",
    "# This pattern will search for all files ending with '.parquet' within the folder.\n",
    "parquet_folder = \"/workspace/src/PL-BERT-ID/wikipedia/*.parquet\"\n",
    "\n",
    "try:\n",
    "    dataset = load_dataset(\"parquet\", data_files=parquet_folder)\n",
    "    if isinstance(dataset, dict) or hasattr(dataset, \"keys\"):\n",
    "        split_name = \"train\" if \"train\" in dataset else list(dataset.keys())[0]\n",
    "        dataset = dataset[split_name]\n",
    "    print(\"Dataset loaded successfully!\")\n",
    "    print(dataset)\n",
    "except Exception as e:\n",
    "    print(f\"An error occurred while loading the dataset: {e}\")"
   ]
  },
  {
   "cell_type": "code",
   "execution_count": 7,
   "id": "ca7ca2f3",
   "metadata": {},
   "outputs": [],
   "source": [
    "root_directory = \"./wiki_phoneme\" # set up root directory for multiprocessor processing"
   ]
  },
  {
   "cell_type": "code",
   "execution_count": 8,
   "id": "92a578d6",
   "metadata": {},
   "outputs": [],
   "source": [
    "# Update the process_shard function with better error handling\n",
    "\n",
    "import os\n",
    "import time\n",
    "\n",
    "num_shards = 100\n",
    "\n",
    "def process_shard(i):\n",
    "    directory = root_directory + \"/shard_\" + str(i)\n",
    "    if os.path.exists(directory):\n",
    "        print(\"Shard %d already exists!\" % i)\n",
    "        return f\"Shard {i} already exists\"\n",
    "    \n",
    "    start_time = time.time()\n",
    "    print('Processing shard %d ...' % i)\n",
    "    \n",
    "    try:\n",
    "        shard = dataset.shard(num_shards=num_shards, index=i)\n",
    "        print(f'Shard {i}: {len(shard)} examples to process')\n",
    "        \n",
    "        # Process in smaller batches to avoid memory issues\n",
    "        processed_dataset = shard.map(\n",
    "            lambda t: phonemize(t['text'], global_phonemizer, tokenizer), \n",
    "            remove_columns=['text'],\n",
    "            batch_size=100,  # Process in smaller batches\n",
    "            desc=f\"Phonemizing shard {i}\"\n",
    "        )\n",
    "        \n",
    "        if not os.path.exists(directory):\n",
    "            os.makedirs(directory)\n",
    "        processed_dataset.save_to_disk(directory)\n",
    "        \n",
    "        elapsed = time.time() - start_time\n",
    "        print(f'Shard {i} completed in {elapsed:.2f} seconds')\n",
    "        return f\"Shard {i} completed successfully\"\n",
    "        \n",
    "    except Exception as e:\n",
    "        print(f'Shard {i} failed: {str(e)}')\n",
    "        return Exception(f\"Shard {i} failed: {str(e)}\")"
   ]
  },
  {
   "cell_type": "code",
   "execution_count": 9,
   "id": "d73caf6f",
   "metadata": {},
   "outputs": [],
   "source": [
    "from pebble import ProcessPool\n",
    "from concurrent.futures import TimeoutError"
   ]
  },
  {
   "cell_type": "markdown",
   "id": "c21f9dcf",
   "metadata": {},
   "source": [
    "#### Note: You will need to run the following cell multiple times to process all shards because some will fail. Depending on how fast you process each shard, you will need to change the timeout to a longer value to make more shards processed before being killed.\n"
   ]
  },
  {
   "cell_type": "code",
   "execution_count": 10,
   "id": "04261364",
   "metadata": {
    "scrolled": true
   },
   "outputs": [
    {
     "name": "stdout",
     "output_type": "stream",
     "text": [
      "Processing 100 shards with 8 workers...\n",
      "Timeout set to 1800 seconds (30 minutes)\n",
      "Processing shard 0 ...Processing shard 1 ...Processing shard 2 ...Processing shard 3 ...\n",
      "\n",
      "\n",
      "\n",
      "Processing shard 4 ...Processing shard 5 ...\n",
      "\n",
      "Processing shard 7 ...Processing shard 6 ...\n",
      "\n",
      "Shard 0: 6657 examples to processShard 1: 6657 examples to process\n",
      "Shard 2: 6657 examples to processShard 3: 6657 examples to process\n",
      "Shard 4: 6657 examples to process\n",
      "\n",
      "Shard 5: 6657 examples to process\n",
      "\n",
      "Shard 6: 6657 examples to processShard 7: 6657 examples to process\n",
      "\n"
     ]
    },
    {
     "name": "stderr",
     "output_type": "stream",
     "text": [
      "Phonemizing shard 5: 100%|██████████| 6657/6657 [10:13<00:00, 10.86 examples/s]  \n",
      "Saving the dataset (1/1 shards): 100%|██████████| 6657/6657 [00:00<00:00, 48519.10 examples/s]\n",
      "Phonemizing shard 7:  48%|████▊     | 3178/6657 [10:13<01:57, 29.52 examples/s]"
     ]
    },
    {
     "name": "stdout",
     "output_type": "stream",
     "text": [
      "Shard 5 completed in 613.96 seconds\n",
      "Processing shard 8 ...\n",
      "Shard 8: 6657 examples to process\n"
     ]
    },
    {
     "name": "stderr",
     "output_type": "stream",
     "text": [
      "Phonemizing shard 7: 100%|██████████| 6657/6657 [13:39<00:00,  8.12 examples/s]s]\n",
      "Saving the dataset (1/1 shards): 100%|██████████| 6657/6657 [00:00<00:00, 35236.56 examples/s]\n",
      "Phonemizing shard 0:  21%|██        | 1404/6657 [13:40<57:10,  1.53 examples/s]  "
     ]
    },
    {
     "name": "stdout",
     "output_type": "stream",
     "text": [
      "Shard 7 completed in 820.88 seconds\n",
      "Processing shard 9 ...\n",
      "Shard 9: 6657 examples to process\n"
     ]
    },
    {
     "name": "stderr",
     "output_type": "stream",
     "text": [
      "Phonemizing shard 4: 100%|██████████| 6657/6657 [14:46<00:00,  7.51 examples/s]  \n",
      "Saving the dataset (1/1 shards): 100%|██████████| 6657/6657 [00:00<00:00, 32117.76 examples/s]\n",
      "Phonemizing shard 8:  45%|████▍     | 2992/6657 [04:32<12:08,  5.03 examples/s]"
     ]
    },
    {
     "name": "stdout",
     "output_type": "stream",
     "text": [
      "Shard 4 completed in 887.73 seconds\n"
     ]
    },
    {
     "name": "stderr",
     "output_type": "stream",
     "text": [
      "Phonemizing shard 2:  62%|██████▏   | 4116/6657 [14:46<03:26, 12.32 examples/s]"
     ]
    },
    {
     "name": "stdout",
     "output_type": "stream",
     "text": [
      "Processing shard 10 ...\n",
      "Shard 10: 6657 examples to process\n"
     ]
    },
    {
     "name": "stderr",
     "output_type": "stream",
     "text": [
      "Phonemizing shard 6: 100%|██████████| 6657/6657 [17:00<00:00,  6.52 examples/s]  \n",
      "Saving the dataset (1/1 shards): 100%|██████████| 6657/6657 [00:00<00:00, 25324.05 examples/s]\n",
      "Phonemizing shard 8:  61%|██████    | 4064/6657 [06:46<04:42,  9.19 examples/s]"
     ]
    },
    {
     "name": "stdout",
     "output_type": "stream",
     "text": [
      "Shard 6 completed in 1021.60 seconds\n",
      "Processing shard 11 ...\n",
      "Shard 11: 6657 examples to process\n"
     ]
    },
    {
     "name": "stderr",
     "output_type": "stream",
     "text": [
      "Phonemizing shard 2: 100%|██████████| 6657/6657 [20:11<00:00,  5.50 examples/s]] \n",
      "Saving the dataset (1/1 shards): 100%|██████████| 6657/6657 [00:00<00:00, 19311.75 examples/s]\n"
     ]
    },
    {
     "name": "stdout",
     "output_type": "stream",
     "text": [
      "Shard 2 completed in 1212.50 seconds\n",
      "Processing shard 12 ...\n",
      "Shard 12: 6657 examples to process\n"
     ]
    },
    {
     "name": "stderr",
     "output_type": "stream",
     "text": [
      "Phonemizing shard 3: 100%|██████████| 6657/6657 [21:25<00:00,  5.18 examples/s]] \n",
      "Saving the dataset (1/1 shards): 100%|██████████| 6657/6657 [00:00<00:00, 20383.26 examples/s]\n"
     ]
    },
    {
     "name": "stdout",
     "output_type": "stream",
     "text": [
      "Shard 3 completed in 1287.12 seconds\n",
      "Processing shard 13 ...\n",
      "Shard 13: 6657 examples to process\n"
     ]
    },
    {
     "name": "stderr",
     "output_type": "stream",
     "text": [
      "Phonemizing shard 8: 100%|██████████| 6657/6657 [12:59<00:00,  8.54 examples/s]] \n",
      "Saving the dataset (1/1 shards): 100%|██████████| 6657/6657 [00:00<00:00, 26381.51 examples/s]\n"
     ]
    },
    {
     "name": "stdout",
     "output_type": "stream",
     "text": [
      "Shard 8 completed in 780.18 seconds\n",
      "Processing shard 14 ...\n",
      "Shard 14: 6657 examples to process\n"
     ]
    },
    {
     "name": "stderr",
     "output_type": "stream",
     "text": [
      "Phonemizing shard 10: 100%|██████████| 6657/6657 [10:27<00:00, 10.62 examples/s]  \n",
      "Saving the dataset (1/1 shards): 100%|██████████| 6657/6657 [00:00<00:00, 36278.72 examples/s]\n"
     ]
    },
    {
     "name": "stdout",
     "output_type": "stream",
     "text": [
      "Shard 10 completed in 627.94 seconds\n",
      "Processing shard 15 ...\n",
      "Shard 15: 6657 examples to process\n"
     ]
    },
    {
     "name": "stderr",
     "output_type": "stream",
     "text": [
      "Phonemizing shard 1: 100%|██████████| 6657/6657 [28:23<00:00,  3.91 examples/s]]  \n",
      "Saving the dataset (1/1 shards): 100%|██████████| 6657/6657 [00:00<00:00, 13907.30 examples/s]\n"
     ]
    },
    {
     "name": "stdout",
     "output_type": "stream",
     "text": [
      "Shard 1 completed in 1704.51 seconds\n",
      "Processing shard 16 ...\n",
      "Shard 16: 6657 examples to process\n"
     ]
    },
    {
     "name": "stderr",
     "output_type": "stream",
     "text": [
      "Phonemizing shard 16:  14%|█▍        | 921/6657 [01:34<08:31, 11.22 examples/s]] "
     ]
    },
    {
     "name": "stdout",
     "output_type": "stream",
     "text": [
      "Processing error: [Errno Task timeout] 1800\n"
     ]
    },
    {
     "name": "stderr",
     "output_type": "stream",
     "text": [
      "Phonemizing shard 11:  86%|████████▋ | 5750/6657 [12:57<06:00,  2.52 examples/s]"
     ]
    },
    {
     "name": "stdout",
     "output_type": "stream",
     "text": [
      "Processing shard 17 ...\n",
      "Shard 17: 6657 examples to process\n"
     ]
    },
    {
     "name": "stderr",
     "output_type": "stream",
     "text": [
      "Phonemizing shard 11: 100%|██████████| 6657/6657 [14:29<00:00,  7.66 examples/s] \n",
      "Saving the dataset (1/1 shards): 100%|██████████| 6657/6657 [00:00<00:00, 33141.34 examples/s]\n"
     ]
    },
    {
     "name": "stdout",
     "output_type": "stream",
     "text": [
      "Shard 11 completed in 870.14 seconds\n",
      "Processing shard 18 ...\n",
      "Shard 18: 6657 examples to process\n"
     ]
    },
    {
     "name": "stderr",
     "output_type": "stream",
     "text": [
      "Phonemizing shard 9: 100%|██████████| 6657/6657 [18:18<00:00,  6.06 examples/s]] \n",
      "Saving the dataset (1/1 shards): 100%|██████████| 6657/6657 [00:00<00:00, 21258.07 examples/s]\n"
     ]
    },
    {
     "name": "stdout",
     "output_type": "stream",
     "text": [
      "Shard 9 completed in 1099.76 seconds\n",
      "Processing shard 19 ..."
     ]
    },
    {
     "name": "stderr",
     "output_type": "stream",
     "text": [
      "Phonemizing shard 14:  70%|███████   | 4673/6657 [08:45<02:31, 13.07 examples/s]"
     ]
    },
    {
     "name": "stdout",
     "output_type": "stream",
     "text": [
      "\n",
      "Shard 19: 6657 examples to process\n"
     ]
    },
    {
     "name": "stderr",
     "output_type": "stream",
     "text": [
      "Phonemizing shard 13: 100%|██████████| 6657/6657 [11:08<00:00,  9.96 examples/s] \n",
      "Saving the dataset (1/1 shards): 100%|██████████| 6657/6657 [00:00<00:00, 37694.29 examples/s]\n"
     ]
    },
    {
     "name": "stdout",
     "output_type": "stream",
     "text": [
      "Shard 13 completed in 669.49 seconds"
     ]
    },
    {
     "name": "stderr",
     "output_type": "stream",
     "text": [
      "Phonemizing shard 18:  12%|█▏        | 766/6657 [01:04<06:51, 14.33 examples/s]"
     ]
    },
    {
     "name": "stdout",
     "output_type": "stream",
     "text": [
      "\n",
      "Shard 20 already exists!\n",
      "Processing shard 21 ...\n",
      "Shard 21: 6657 examples to process\n"
     ]
    },
    {
     "name": "stderr",
     "output_type": "stream",
     "text": [
      "Phonemizing shard 12: 100%|██████████| 6657/6657 [13:23<00:00,  8.28 examples/s] \n",
      "Saving the dataset (1/1 shards): 100%|██████████| 6657/6657 [00:00<00:00, 29191.49 examples/s]\n",
      "Phonemizing shard 16:  45%|████▍     | 2995/6657 [05:11<11:01,  5.53 examples/s]"
     ]
    },
    {
     "name": "stdout",
     "output_type": "stream",
     "text": [
      "Shard 12 completed in 804.76 seconds\n",
      "Processing shard 22 ...\n",
      "Shard 22: 6656 examples to process\n"
     ]
    },
    {
     "name": "stderr",
     "output_type": "stream",
     "text": [
      "Phonemizing shard 15: 100%|██████████| 6657/6657 [09:07<00:00, 12.15 examples/s]\n",
      "Saving the dataset (1/1 shards): 100%|██████████| 6657/6657 [00:00<00:00, 37010.77 examples/s]\n"
     ]
    },
    {
     "name": "stdout",
     "output_type": "stream",
     "text": [
      "Shard 15 completed in 548.76 seconds\n",
      "Processing shard 23 ...\n",
      "Shard 23: 6656 examples to process\n"
     ]
    },
    {
     "name": "stderr",
     "output_type": "stream",
     "text": [
      "Phonemizing shard 14: 100%|██████████| 6657/6657 [12:21<00:00,  8.97 examples/s] \n",
      "Saving the dataset (1/1 shards): 100%|██████████| 6657/6657 [00:00<00:00, 35403.34 examples/s]\n"
     ]
    },
    {
     "name": "stdout",
     "output_type": "stream",
     "text": [
      "Shard 14 completed in 742.91 seconds\n",
      "Processing shard 24 ...\n",
      "Shard 24: 6656 examples to process\n"
     ]
    },
    {
     "name": "stderr",
     "output_type": "stream",
     "text": [
      "Phonemizing shard 21: 100%|██████████| 6657/6657 [04:08<00:00, 26.74 examples/s]  \n",
      "Saving the dataset (1/1 shards): 100%|██████████| 6657/6657 [00:00<00:00, 76526.98 examples/s]\n"
     ]
    },
    {
     "name": "stdout",
     "output_type": "stream",
     "text": [
      "Shard 21 completed in 249.79 seconds\n",
      "Processing shard 25 ...\n",
      "Shard 25: 6656 examples to process\n"
     ]
    },
    {
     "name": "stderr",
     "output_type": "stream",
     "text": [
      "Phonemizing shard 22: 100%|██████████| 6656/6656 [06:07<00:00, 18.12 examples/s] \n",
      "Saving the dataset (1/1 shards): 100%|██████████| 6656/6656 [00:00<00:00, 50842.18 examples/s]\n"
     ]
    },
    {
     "name": "stdout",
     "output_type": "stream",
     "text": [
      "Shard 22 completed in 368.16 seconds\n",
      "Processing shard 26 ...\n",
      "Shard 26: 6656 examples to process\n"
     ]
    },
    {
     "name": "stderr",
     "output_type": "stream",
     "text": [
      "Phonemizing shard 16: 100%|██████████| 6657/6657 [12:11<00:00,  9.10 examples/s]\n",
      "Saving the dataset (1/1 shards): 100%|██████████| 6657/6657 [00:00<00:00, 29003.67 examples/s]\n"
     ]
    },
    {
     "name": "stdout",
     "output_type": "stream",
     "text": [
      "Shard 16 completed in 732.34 seconds\n",
      "Processing shard 27 ...\n",
      "Shard 27: 6656 examples to process\n"
     ]
    },
    {
     "name": "stderr",
     "output_type": "stream",
     "text": [
      "Phonemizing shard 19: 100%|██████████| 6657/6657 [09:33<00:00, 11.60 examples/s]  \n",
      "Saving the dataset (1/1 shards): 100%|██████████| 6657/6657 [00:00<00:00, 39353.69 examples/s]\n"
     ]
    },
    {
     "name": "stdout",
     "output_type": "stream",
     "text": [
      "Shard 19 completed in 574.84 seconds\n",
      "Processing shard 28 ...\n",
      "Shard 28: 6656 examples to process"
     ]
    },
    {
     "name": "stderr",
     "output_type": "stream",
     "text": [
      "Phonemizing shard 18:  99%|█████████▉| 6614/6657 [10:02<00:06,  6.48 examples/s]"
     ]
    },
    {
     "name": "stdout",
     "output_type": "stream",
     "text": [
      "\n"
     ]
    },
    {
     "name": "stderr",
     "output_type": "stream",
     "text": [
      "Phonemizing shard 18: 100%|██████████| 6657/6657 [10:07<00:00, 10.95 examples/s]\n",
      "Saving the dataset (1/1 shards): 100%|██████████| 6657/6657 [00:00<00:00, 38757.23 examples/s]\n"
     ]
    },
    {
     "name": "stdout",
     "output_type": "stream",
     "text": [
      "Shard 18 completed in 608.93 seconds\n",
      "Processing shard 29 ...\n",
      "Shard 29: 6656 examples to process\n"
     ]
    },
    {
     "name": "stderr",
     "output_type": "stream",
     "text": [
      "Phonemizing shard 23: 100%|██████████| 6656/6656 [08:35<00:00, 12.91 examples/s] \n",
      "Saving the dataset (1/1 shards): 100%|██████████| 6656/6656 [00:00<00:00, 38001.16 examples/s]\n"
     ]
    },
    {
     "name": "stdout",
     "output_type": "stream",
     "text": [
      "Shard 23 completed in 516.42 seconds\n",
      "Processing shard 30 ...\n",
      "Shard 30: 6656 examples to process\n"
     ]
    },
    {
     "name": "stderr",
     "output_type": "stream",
     "text": [
      "Phonemizing shard 17: 100%|██████████| 6657/6657 [13:11<00:00,  8.41 examples/s]\n",
      "Saving the dataset (1/1 shards): 100%|██████████| 6657/6657 [00:00<00:00, 36268.59 examples/s]\n"
     ]
    },
    {
     "name": "stdout",
     "output_type": "stream",
     "text": [
      "Shard 17 completed in 792.51 seconds\n",
      "Processing shard 31 ...\n",
      "Shard 31: 6656 examples to process\n"
     ]
    },
    {
     "name": "stderr",
     "output_type": "stream",
     "text": [
      "Phonemizing shard 24: 100%|██████████| 6656/6656 [09:40<00:00, 11.46 examples/s]  \n",
      "Saving the dataset (1/1 shards): 100%|██████████| 6656/6656 [00:00<00:00, 39070.13 examples/s]\n"
     ]
    },
    {
     "name": "stdout",
     "output_type": "stream",
     "text": [
      "Shard 24 completed in 581.89 seconds\n",
      "Shard 32 already exists!\n",
      "Shard 33 already exists!\n",
      "Shard 34 already exists!\n",
      "Shard 35 already exists!\n",
      "Shard 36 already exists!\n",
      "Shard 37 already exists!\n",
      "Shard 38 already exists!\n",
      "Shard 39 already exists!\n",
      "Shard 40 already exists!\n",
      "Shard 41 already exists!\n",
      "Shard 42 already exists!\n",
      "Shard 43 already exists!\n",
      "Shard 44 already exists!\n",
      "Shard 45 already exists!\n",
      "Shard 46 already exists!\n",
      "Processing shard 47 ...\n"
     ]
    },
    {
     "name": "stderr",
     "output_type": "stream",
     "text": [
      "Phonemizing shard 31:  19%|█▉        | 1258/6656 [02:05<06:30, 13.83 examples/s]"
     ]
    },
    {
     "name": "stdout",
     "output_type": "stream",
     "text": [
      "Shard 47: 6656 examples to process\n"
     ]
    },
    {
     "name": "stderr",
     "output_type": "stream",
     "text": [
      "Phonemizing shard 25: 100%|██████████| 6656/6656 [11:28<00:00,  9.67 examples/s] \n",
      "Saving the dataset (1/1 shards): 100%|██████████| 6656/6656 [00:00<00:00, 31197.21 examples/s]\n"
     ]
    },
    {
     "name": "stdout",
     "output_type": "stream",
     "text": [
      "Shard 25 completed in 689.22 seconds\n",
      "Processing shard 48 ...\n",
      "Shard 48: 6656 examples to process\n"
     ]
    },
    {
     "name": "stderr",
     "output_type": "stream",
     "text": [
      "Phonemizing shard 27: 100%|██████████| 6656/6656 [08:51<00:00, 12.53 examples/s] \n",
      "Saving the dataset (1/1 shards): 100%|██████████| 6656/6656 [00:00<00:00, 37159.58 examples/s]\n"
     ]
    },
    {
     "name": "stdout",
     "output_type": "stream",
     "text": [
      "Shard 27 completed in 532.04 seconds\n",
      "Processing shard 49 ...\n",
      "Shard 49: 6656 examples to process\n"
     ]
    },
    {
     "name": "stderr",
     "output_type": "stream",
     "text": [
      "Phonemizing shard 47: 100%|██████████| 6656/6656 [04:56<00:00, 22.45 examples/s]\n",
      "Saving the dataset (1/1 shards): 100%|██████████| 6656/6656 [00:00<00:00, 59701.95 examples/s]\n"
     ]
    },
    {
     "name": "stdout",
     "output_type": "stream",
     "text": [
      "Shard 47 completed in 297.34 seconds\n"
     ]
    },
    {
     "name": "stderr",
     "output_type": "stream",
     "text": [
      "Phonemizing shard 30:  55%|█████▍    | 3657/6656 [07:14<05:04,  9.84 examples/s]"
     ]
    },
    {
     "name": "stdout",
     "output_type": "stream",
     "text": [
      "Processing shard 50 ...\n",
      "Shard 50: 6656 examples to process\n"
     ]
    },
    {
     "name": "stderr",
     "output_type": "stream",
     "text": [
      "Phonemizing shard 26: 100%|██████████| 6656/6656 [10:33<00:00, 10.51 examples/s]\n",
      "Saving the dataset (1/1 shards): 100%|██████████| 6656/6656 [00:00<00:00, 32962.26 examples/s]\n"
     ]
    },
    {
     "name": "stdout",
     "output_type": "stream",
     "text": [
      "Shard 26 completed in 634.26 seconds\n"
     ]
    },
    {
     "name": "stderr",
     "output_type": "stream",
     "text": [
      "Phonemizing shard 30:  55%|█████▌    | 3685/6656 [07:18<05:14,  9.45 examples/s]"
     ]
    },
    {
     "name": "stdout",
     "output_type": "stream",
     "text": [
      "Processing shard 51 ...\n",
      "Shard 51: 6656 examples to process\n"
     ]
    },
    {
     "name": "stderr",
     "output_type": "stream",
     "text": [
      "Phonemizing shard 29: 100%|██████████| 6656/6656 [09:58<00:00, 11.12 examples/s] \n",
      "Saving the dataset (1/1 shards): 100%|██████████| 6656/6656 [00:00<00:00, 32154.07 examples/s]\n"
     ]
    },
    {
     "name": "stdout",
     "output_type": "stream",
     "text": [
      "Shard 29 completed in 599.68 seconds\n",
      "Processing shard 52 ...\n",
      "Shard 52: 6656 examples to process\n"
     ]
    },
    {
     "name": "stderr",
     "output_type": "stream",
     "text": [
      "Phonemizing shard 28: 100%|██████████| 6656/6656 [10:52<00:00, 10.20 examples/s]\n",
      "Saving the dataset (1/1 shards): 100%|██████████| 6656/6656 [00:00<00:00, 33858.06 examples/s]\n"
     ]
    },
    {
     "name": "stdout",
     "output_type": "stream",
     "text": [
      "Shard 28 completed in 653.55 seconds\n",
      "Processing shard 53 ...\n",
      "Shard 53: 6656 examples to process\n"
     ]
    },
    {
     "name": "stderr",
     "output_type": "stream",
     "text": [
      "Phonemizing shard 31: 100%|██████████| 6656/6656 [11:01<00:00, 10.06 examples/s] \n",
      "Saving the dataset (1/1 shards): 100%|██████████| 6656/6656 [00:00<00:00, 29184.63 examples/s]\n"
     ]
    },
    {
     "name": "stdout",
     "output_type": "stream",
     "text": [
      "Shard 31 completed in 662.34 seconds\n",
      "Processing shard 54 ...\n",
      "Shard 54: 6656 examples to process\n"
     ]
    },
    {
     "name": "stderr",
     "output_type": "stream",
     "text": [
      "Phonemizing shard 30: 100%|██████████| 6656/6656 [12:28<00:00,  8.90 examples/s] \n",
      "Saving the dataset (1/1 shards): 100%|██████████| 6656/6656 [00:00<00:00, 26473.23 examples/s]\n"
     ]
    },
    {
     "name": "stdout",
     "output_type": "stream",
     "text": [
      "Shard 30 completed in 749.18 seconds\n",
      "Processing shard 55 ...\n",
      "Shard 55: 6656 examples to process\n"
     ]
    },
    {
     "name": "stderr",
     "output_type": "stream",
     "text": [
      "Phonemizing shard 50: 100%|██████████| 6656/6656 [06:48<00:00, 16.31 examples/s] \n",
      "Saving the dataset (1/1 shards): 100%|██████████| 6656/6656 [00:00<00:00, 54811.03 examples/s]\n"
     ]
    },
    {
     "name": "stdout",
     "output_type": "stream",
     "text": [
      "Shard 50 completed in 409.02 seconds\n",
      "Processing shard 56 ...\n",
      "Shard 56: 6656 examples to process\n"
     ]
    },
    {
     "name": "stderr",
     "output_type": "stream",
     "text": [
      "Phonemizing shard 48: 100%|██████████| 6656/6656 [09:44<00:00, 11.38 examples/s]\n",
      "Saving the dataset (1/1 shards): 100%|██████████| 6656/6656 [00:00<00:00, 35385.64 examples/s]\n"
     ]
    },
    {
     "name": "stdout",
     "output_type": "stream",
     "text": [
      "Shard 48 completed in 585.62 seconds\n",
      "Processing shard 57 ...\n",
      "Shard 57: 6656 examples to process\n"
     ]
    },
    {
     "name": "stderr",
     "output_type": "stream",
     "text": [
      "Phonemizing shard 49: 100%|██████████| 6656/6656 [09:55<00:00, 11.18 examples/s] \n",
      "Saving the dataset (1/1 shards): 100%|██████████| 6656/6656 [00:00<00:00, 35358.88 examples/s]\n"
     ]
    },
    {
     "name": "stdout",
     "output_type": "stream",
     "text": [
      "Shard 49 completed in 596.53 seconds\n",
      "Processing shard 58 ...\n",
      "Shard 58: 6656 examples to process\n"
     ]
    },
    {
     "name": "stderr",
     "output_type": "stream",
     "text": [
      "Phonemizing shard 51: 100%|██████████| 6656/6656 [10:44<00:00, 10.32 examples/s]\n",
      "Saving the dataset (1/1 shards): 100%|██████████| 6656/6656 [00:00<00:00, 34275.37 examples/s]\n"
     ]
    },
    {
     "name": "stdout",
     "output_type": "stream",
     "text": [
      "Shard 51 completed in 645.90 seconds\n",
      "Processing shard 59 ...\n",
      "Shard 59: 6656 examples to process\n"
     ]
    },
    {
     "name": "stderr",
     "output_type": "stream",
     "text": [
      "Phonemizing shard 52: 100%|██████████| 6656/6656 [13:25<00:00,  8.26 examples/s]  \n",
      "Saving the dataset (1/1 shards): 100%|██████████| 6656/6656 [00:00<00:00, 28793.03 examples/s]\n"
     ]
    },
    {
     "name": "stdout",
     "output_type": "stream",
     "text": [
      "Shard 52 completed in 806.76 seconds\n"
     ]
    },
    {
     "name": "stderr",
     "output_type": "stream",
     "text": [
      "Phonemizing shard 54:  75%|███████▌  | 5007/6656 [10:51<02:38, 10.41 examples/s]"
     ]
    },
    {
     "name": "stdout",
     "output_type": "stream",
     "text": [
      "Processing shard 60 ...\n",
      "Shard 60: 6656 examples to process\n"
     ]
    },
    {
     "name": "stderr",
     "output_type": "stream",
     "text": [
      "Phonemizing shard 59: 100%|██████████| 6656/6656 [05:15<00:00, 21.11 examples/s]\n",
      "Saving the dataset (1/1 shards): 100%|██████████| 6656/6656 [00:00<00:00, 60933.36 examples/s]\n"
     ]
    },
    {
     "name": "stdout",
     "output_type": "stream",
     "text": [
      "Shard 59 completed in 316.13 seconds\n",
      "Processing shard 61 ...\n",
      "Shard 61: 6656 examples to process\n"
     ]
    },
    {
     "name": "stderr",
     "output_type": "stream",
     "text": [
      "Phonemizing shard 53: 100%|██████████| 6656/6656 [14:00<00:00,  7.92 examples/s]\n",
      "Saving the dataset (1/1 shards): 100%|██████████| 6656/6656 [00:00<00:00, 29645.12 examples/s]\n"
     ]
    },
    {
     "name": "stdout",
     "output_type": "stream",
     "text": [
      "Shard 53 completed in 841.38 seconds\n",
      "Processing shard 62 ...\n",
      "Shard 62: 6656 examples to process\n"
     ]
    },
    {
     "name": "stderr",
     "output_type": "stream",
     "text": [
      "Phonemizing shard 55: 100%|██████████| 6656/6656 [12:17<00:00,  9.02 examples/s] \n",
      "Saving the dataset (1/1 shards): 100%|██████████| 6656/6656 [00:00<00:00, 29628.10 examples/s]\n"
     ]
    },
    {
     "name": "stdout",
     "output_type": "stream",
     "text": [
      "Shard 55 completed in 738.59 seconds\n",
      "Processing shard 63 ...\n",
      "Shard 63: 6656 examples to process\n"
     ]
    },
    {
     "name": "stderr",
     "output_type": "stream",
     "text": [
      "Phonemizing shard 54: 100%|██████████| 6656/6656 [14:30<00:00,  7.65 examples/s]\n",
      "Saving the dataset (1/1 shards): 100%|██████████| 6656/6656 [00:00<00:00, 28936.25 examples/s]\n"
     ]
    },
    {
     "name": "stdout",
     "output_type": "stream",
     "text": [
      "Shard 54 completed in 871.23 seconds\n",
      "Processing shard 64 ...\n",
      "Shard 64: 6656 examples to process\n"
     ]
    },
    {
     "name": "stderr",
     "output_type": "stream",
     "text": [
      "Phonemizing shard 56: 100%|██████████| 6656/6656 [11:52<00:00,  9.34 examples/s]\n",
      "Saving the dataset (1/1 shards): 100%|██████████| 6656/6656 [00:00<00:00, 34867.41 examples/s]\n"
     ]
    },
    {
     "name": "stdout",
     "output_type": "stream",
     "text": [
      "Shard 56 completed in 713.78 seconds\n",
      "Processing shard 65 ...\n",
      "Shard 65: 6656 examples to process\n"
     ]
    },
    {
     "name": "stderr",
     "output_type": "stream",
     "text": [
      "Phonemizing shard 57: 100%|██████████| 6656/6656 [13:13<00:00,  8.39 examples/s]  \n",
      "Saving the dataset (1/1 shards): 100%|██████████| 6656/6656 [00:00<00:00, 27490.25 examples/s]\n"
     ]
    },
    {
     "name": "stdout",
     "output_type": "stream",
     "text": [
      "Shard 57 completed in 794.65 seconds\n",
      "Processing shard 66 ...\n",
      "Shard 66: 6656 examples to process\n"
     ]
    },
    {
     "name": "stderr",
     "output_type": "stream",
     "text": [
      "Phonemizing shard 58: 100%|██████████| 6656/6656 [12:23<00:00,  8.96 examples/s]\n",
      "Saving the dataset (1/1 shards): 100%|██████████| 6656/6656 [00:00<00:00, 30756.11 examples/s]\n",
      "Phonemizing shard 64:  33%|███▎      | 2218/6656 [03:02<04:27, 16.58 examples/s]"
     ]
    },
    {
     "name": "stdout",
     "output_type": "stream",
     "text": [
      "Shard 58 completed in 744.09 seconds\n",
      "Processing shard 67 ...\n",
      "Shard 67: 6656 examples to process\n"
     ]
    },
    {
     "name": "stderr",
     "output_type": "stream",
     "text": [
      "Phonemizing shard 63: 100%|██████████| 6656/6656 [07:41<00:00, 14.43 examples/s] \n",
      "Saving the dataset (1/1 shards): 100%|██████████| 6656/6656 [00:00<00:00, 43408.40 examples/s]\n",
      "Phonemizing shard 60:  82%|████████▏ | 5483/6656 [10:22<02:22,  8.24 examples/s]"
     ]
    },
    {
     "name": "stdout",
     "output_type": "stream",
     "text": [
      "Shard 63 completed in 462.15 seconds\n",
      "Processing shard 68 ...\n",
      "Shard 68: 6656 examples to process\n"
     ]
    },
    {
     "name": "stderr",
     "output_type": "stream",
     "text": [
      "Phonemizing shard 64: 100%|██████████| 6656/6656 [08:15<00:00, 13.45 examples/s] \n",
      "Saving the dataset (1/1 shards): 100%|██████████| 6656/6656 [00:00<00:00, 44882.02 examples/s]\n"
     ]
    },
    {
     "name": "stdout",
     "output_type": "stream",
     "text": [
      "Shard 64 completed in 496.00 seconds\n",
      "Processing shard 69 ...\n",
      "Shard 69: 6656 examples to process\n"
     ]
    },
    {
     "name": "stderr",
     "output_type": "stream",
     "text": [
      "Phonemizing shard 62: 100%|██████████| 6656/6656 [10:31<00:00, 10.53 examples/s]\n",
      "Saving the dataset (1/1 shards): 100%|██████████| 6656/6656 [00:00<00:00, 31468.15 examples/s]\n"
     ]
    },
    {
     "name": "stdout",
     "output_type": "stream",
     "text": [
      "Shard 62 completed in 632.80 seconds\n",
      "Shard 70 already exists!\n",
      "Shard 71 already exists!\n",
      "Processing shard 72 ...\n",
      "Shard 72: 6656 examples to process\n"
     ]
    },
    {
     "name": "stderr",
     "output_type": "stream",
     "text": [
      "Phonemizing shard 60: 100%|██████████| 6656/6656 [12:15<00:00,  9.06 examples/s] \n",
      "Saving the dataset (1/1 shards): 100%|██████████| 6656/6656 [00:00<00:00, 28909.64 examples/s]\n"
     ]
    },
    {
     "name": "stdout",
     "output_type": "stream",
     "text": [
      "Shard 60 completed in 736.04 seconds\n",
      "Shard 73 already exists!\n",
      "Processing shard 74 ...\n",
      "Shard 74: 6656 examples to process\n"
     ]
    },
    {
     "name": "stderr",
     "output_type": "stream",
     "text": [
      "Phonemizing shard 65: 100%|██████████| 6656/6656 [08:33<00:00, 12.96 examples/s]\n",
      "Saving the dataset (1/1 shards): 100%|██████████| 6656/6656 [00:00<00:00, 45939.26 examples/s]\n"
     ]
    },
    {
     "name": "stdout",
     "output_type": "stream",
     "text": [
      "Shard 65 completed in 514.49 seconds\n",
      "Processing shard 75 ...\n",
      "Shard 75: 6656 examples to process\n"
     ]
    },
    {
     "name": "stderr",
     "output_type": "stream",
     "text": [
      "Phonemizing shard 67: 100%|██████████| 6656/6656 [07:15<00:00, 15.28 examples/s]  \n",
      "Saving the dataset (1/1 shards): 100%|██████████| 6656/6656 [00:00<00:00, 47100.85 examples/s]\n"
     ]
    },
    {
     "name": "stdout",
     "output_type": "stream",
     "text": [
      "Shard 67 completed in 436.46 seconds\n",
      "Processing shard 76 ...\n",
      "Shard 76: 6656 examples to process\n"
     ]
    },
    {
     "name": "stderr",
     "output_type": "stream",
     "text": [
      "Phonemizing shard 61: 100%|██████████| 6656/6656 [12:51<00:00,  8.63 examples/s]\n",
      "Saving the dataset (1/1 shards): 100%|██████████| 6656/6656 [00:00<00:00, 27716.45 examples/s]\n",
      "Phonemizing shard 66:  73%|███████▎  | 4855/6656 [07:57<02:46, 10.79 examples/s]"
     ]
    },
    {
     "name": "stdout",
     "output_type": "stream",
     "text": [
      "Shard 61 completed in 772.39 seconds\n",
      "Processing shard 77 ...\n",
      "Shard 77: 6656 examples to process\n"
     ]
    },
    {
     "name": "stderr",
     "output_type": "stream",
     "text": [
      "Phonemizing shard 69: 100%|██████████| 6656/6656 [03:58<00:00, 27.94 examples/s]  \n",
      "Saving the dataset (1/1 shards): 100%|██████████| 6656/6656 [00:00<00:00, 76658.57 examples/s]\n"
     ]
    },
    {
     "name": "stdout",
     "output_type": "stream",
     "text": [
      "Shard 69 completed in 239.08 seconds\n",
      "Processing shard 78 ...\n",
      "Shard 78: 6656 examples to process\n"
     ]
    },
    {
     "name": "stderr",
     "output_type": "stream",
     "text": [
      "Phonemizing shard 74: 100%|██████████| 6656/6656 [03:38<00:00, 30.53 examples/s]\n",
      "Saving the dataset (1/1 shards): 100%|██████████| 6656/6656 [00:00<00:00, 84367.75 examples/s]\n"
     ]
    },
    {
     "name": "stdout",
     "output_type": "stream",
     "text": [
      "Shard 74 completed in 218.88 seconds\n",
      "Processing shard 79 ...\n",
      "Shard 79: 6656 examples to process\n"
     ]
    },
    {
     "name": "stderr",
     "output_type": "stream",
     "text": [
      "Phonemizing shard 66: 100%|██████████| 6656/6656 [10:00<00:00, 11.08 examples/s] \n",
      "Saving the dataset (1/1 shards): 100%|██████████| 6656/6656 [00:00<00:00, 35385.46 examples/s]\n"
     ]
    },
    {
     "name": "stdout",
     "output_type": "stream",
     "text": [
      "Shard 66 completed in 601.52 seconds\n"
     ]
    },
    {
     "name": "stderr",
     "output_type": "stream",
     "text": [
      "Phonemizing shard 78:   3%|▎         | 174/6656 [00:15<06:21, 16.99 examples/s]"
     ]
    },
    {
     "name": "stdout",
     "output_type": "stream",
     "text": [
      "Processing shard 80 ...\n",
      "Shard 80: 6656 examples to process\n"
     ]
    },
    {
     "name": "stderr",
     "output_type": "stream",
     "text": [
      "Phonemizing shard 72: 100%|██████████| 6656/6656 [06:59<00:00, 15.87 examples/s]  \n",
      "Saving the dataset (1/1 shards): 100%|██████████| 6656/6656 [00:00<00:00, 54199.27 examples/s]\n"
     ]
    },
    {
     "name": "stdout",
     "output_type": "stream",
     "text": [
      "Shard 72 completed in 420.45 seconds\n",
      "Processing shard 81 ...\n"
     ]
    },
    {
     "name": "stderr",
     "output_type": "stream",
     "text": [
      "Phonemizing shard 76:  54%|█████▍    | 3589/6656 [04:56<04:52, 10.48 examples/s]"
     ]
    },
    {
     "name": "stdout",
     "output_type": "stream",
     "text": [
      "Shard 81: 6656 examples to process\n"
     ]
    },
    {
     "name": "stderr",
     "output_type": "stream",
     "text": [
      "Phonemizing shard 75: 100%|██████████| 6656/6656 [08:26<00:00, 13.13 examples/s]  \n",
      "Saving the dataset (1/1 shards): 100%|██████████| 6656/6656 [00:00<00:00, 41397.70 examples/s]\n"
     ]
    },
    {
     "name": "stdout",
     "output_type": "stream",
     "text": [
      "Shard 75 completed in 507.92 seconds\n",
      "Processing shard 82 ...\n",
      "Shard 82: 6656 examples to process\n"
     ]
    },
    {
     "name": "stderr",
     "output_type": "stream",
     "text": [
      "Phonemizing shard 68: 100%|██████████| 6656/6656 [10:46<00:00, 10.29 examples/s]\n",
      "Saving the dataset (1/1 shards): 100%|██████████| 6656/6656 [00:00<00:00, 35990.59 examples/s]\n"
     ]
    },
    {
     "name": "stdout",
     "output_type": "stream",
     "text": [
      "Shard 68 completed in 647.75 seconds\n",
      "Processing shard 83 ...\n",
      "Shard 83: 6656 examples to process\n"
     ]
    },
    {
     "name": "stderr",
     "output_type": "stream",
     "text": [
      "Phonemizing shard 77: 100%|██████████| 6656/6656 [07:56<00:00, 13.97 examples/s]\n",
      "Saving the dataset (1/1 shards): 100%|██████████| 6656/6656 [00:00<00:00, 40166.68 examples/s]\n"
     ]
    },
    {
     "name": "stdout",
     "output_type": "stream",
     "text": [
      "Shard 77 completed in 477.26 seconds\n",
      "Processing shard 84 ..."
     ]
    },
    {
     "name": "stderr",
     "output_type": "stream",
     "text": [
      "Phonemizing shard 82:  16%|█▌        | 1077/6656 [01:09<07:49, 11.88 examples/s]"
     ]
    },
    {
     "name": "stdout",
     "output_type": "stream",
     "text": [
      "\n",
      "Shard 84: 6656 examples to process\n"
     ]
    },
    {
     "name": "stderr",
     "output_type": "stream",
     "text": [
      "Phonemizing shard 76: 100%|██████████| 6656/6656 [09:19<00:00, 11.89 examples/s]\n",
      "Saving the dataset (1/1 shards): 100%|██████████| 6656/6656 [00:00<00:00, 36299.31 examples/s]\n"
     ]
    },
    {
     "name": "stdout",
     "output_type": "stream",
     "text": [
      "Shard 76 completed in 560.79 seconds\n",
      "Processing shard 85 ...\n"
     ]
    },
    {
     "name": "stderr",
     "output_type": "stream",
     "text": [
      "Phonemizing shard 80:  87%|████████▋ | 5809/6656 [07:08<00:18, 45.22 examples/s]"
     ]
    },
    {
     "name": "stdout",
     "output_type": "stream",
     "text": [
      "Shard 85: 6656 examples to process\n"
     ]
    },
    {
     "name": "stderr",
     "output_type": "stream",
     "text": [
      "Phonemizing shard 80: 100%|██████████| 6656/6656 [08:03<00:00, 13.76 examples/s]\n",
      "Saving the dataset (1/1 shards): 100%|██████████| 6656/6656 [00:00<00:00, 46694.19 examples/s]\n"
     ]
    },
    {
     "name": "stdout",
     "output_type": "stream",
     "text": [
      "Shard 80 completed in 484.55 seconds\n",
      "Shard 86 already exists!\n",
      "Processing shard 87 ...\n"
     ]
    },
    {
     "name": "stderr",
     "output_type": "stream",
     "text": [
      "Phonemizing shard 85:  16%|█▌        | 1047/6656 [00:54<01:37, 57.80 examples/s]"
     ]
    },
    {
     "name": "stdout",
     "output_type": "stream",
     "text": [
      "Shard 87: 6656 examples to process\n"
     ]
    },
    {
     "name": "stderr",
     "output_type": "stream",
     "text": [
      "Phonemizing shard 79: 100%|██████████| 6656/6656 [09:31<00:00, 11.64 examples/s]  \n",
      "Saving the dataset (1/1 shards): 100%|██████████| 6656/6656 [00:00<00:00, 40273.70 examples/s]\n"
     ]
    },
    {
     "name": "stdout",
     "output_type": "stream",
     "text": [
      "Shard 79 completed in 572.82 seconds\n",
      "Processing shard 88 ...\n",
      "Shard 88: 6656 examples to process\n"
     ]
    },
    {
     "name": "stderr",
     "output_type": "stream",
     "text": [
      "Phonemizing shard 78: 100%|██████████| 6656/6656 [09:38<00:00, 11.50 examples/s]\n",
      "Saving the dataset (1/1 shards): 100%|██████████| 6656/6656 [00:00<00:00, 37177.20 examples/s]\n",
      "Phonemizing shard 88:   1%|          | 49/6656 [00:05<27:45,  3.97 examples/s]"
     ]
    },
    {
     "name": "stdout",
     "output_type": "stream",
     "text": [
      "Shard 78 completed in 579.58 seconds\n",
      "Processing shard 89 ...\n",
      "Shard 89: 6656 examples to process\n"
     ]
    },
    {
     "name": "stderr",
     "output_type": "stream",
     "text": [
      "Phonemizing shard 81: 100%|██████████| 6656/6656 [07:09<00:00, 15.48 examples/s] \n",
      "Saving the dataset (1/1 shards): 100%|██████████| 6656/6656 [00:00<00:00, 45247.11 examples/s]\n"
     ]
    },
    {
     "name": "stdout",
     "output_type": "stream",
     "text": [
      "Shard 81 completed in 430.89 seconds\n",
      "Processing shard 90 ..."
     ]
    },
    {
     "name": "stderr",
     "output_type": "stream",
     "text": [
      "Phonemizing shard 82:  62%|██████▏   | 4144/6656 [05:12<04:00, 10.44 examples/s]"
     ]
    },
    {
     "name": "stdout",
     "output_type": "stream",
     "text": [
      "\n",
      "Shard 90: 6656 examples to process\n"
     ]
    },
    {
     "name": "stderr",
     "output_type": "stream",
     "text": [
      "Phonemizing shard 82: 100%|██████████| 6656/6656 [07:58<00:00, 13.92 examples/s] \n",
      "Saving the dataset (1/1 shards): 100%|██████████| 6656/6656 [00:00<00:00, 46184.28 examples/s]\n",
      "Phonemizing shard 88:  36%|███▌      | 2374/6656 [03:25<04:23, 16.24 examples/s]"
     ]
    },
    {
     "name": "stdout",
     "output_type": "stream",
     "text": [
      "Shard 82 completed in 479.19 seconds\n",
      "Processing shard 91 ...\n",
      "Shard 91: 6656 examples to process\n"
     ]
    },
    {
     "name": "stderr",
     "output_type": "stream",
     "text": [
      "Phonemizing shard 84: 100%|██████████| 6656/6656 [06:55<00:00, 16.03 examples/s]\n",
      "Saving the dataset (1/1 shards): 100%|██████████| 6656/6656 [00:00<00:00, 46729.20 examples/s]\n"
     ]
    },
    {
     "name": "stdout",
     "output_type": "stream",
     "text": [
      "Shard 84 completed in 416.18 seconds\n",
      "Processing shard 92 ...\n",
      "Shard 92: 6656 examples to process\n"
     ]
    },
    {
     "name": "stderr",
     "output_type": "stream",
     "text": [
      "Phonemizing shard 83: 100%|██████████| 6656/6656 [07:50<00:00, 14.16 examples/s]\n",
      "Saving the dataset (1/1 shards): 100%|██████████| 6656/6656 [00:00<00:00, 43904.29 examples/s]\n"
     ]
    },
    {
     "name": "stdout",
     "output_type": "stream",
     "text": [
      "Shard 83 completed in 471.15 seconds\n",
      "Processing shard 93 ...\n",
      "Shard 93: 6656 examples to process\n"
     ]
    },
    {
     "name": "stderr",
     "output_type": "stream",
     "text": [
      "Phonemizing shard 85: 100%|██████████| 6656/6656 [08:10<00:00, 13.57 examples/s] \n",
      "Saving the dataset (1/1 shards): 100%|██████████| 6656/6656 [00:00<00:00, 48463.05 examples/s]\n"
     ]
    },
    {
     "name": "stdout",
     "output_type": "stream",
     "text": [
      "Shard 85 completed in 491.46 seconds\n",
      "Processing shard 94 ...\n",
      "Shard 94: 6656 examples to process\n"
     ]
    },
    {
     "name": "stderr",
     "output_type": "stream",
     "text": [
      "Phonemizing shard 87: 100%|██████████| 6656/6656 [07:56<00:00, 13.96 examples/s]  \n",
      "Saving the dataset (1/1 shards): 100%|██████████| 6656/6656 [00:00<00:00, 43732.14 examples/s]\n"
     ]
    },
    {
     "name": "stdout",
     "output_type": "stream",
     "text": [
      "Shard 87 completed in 477.85 seconds\n",
      "Processing shard 95 ...\n",
      "Shard 95: 6656 examples to process\n"
     ]
    },
    {
     "name": "stderr",
     "output_type": "stream",
     "text": [
      "Phonemizing shard 89: 100%|██████████| 6656/6656 [08:48<00:00, 12.60 examples/s] \n",
      "Saving the dataset (1/1 shards): 100%|██████████| 6656/6656 [00:00<00:00, 39263.94 examples/s]\n"
     ]
    },
    {
     "name": "stdout",
     "output_type": "stream",
     "text": [
      "Shard 89 completed in 529.19 seconds\n",
      "Processing shard 96 ...\n",
      "Shard 96: 6656 examples to process"
     ]
    },
    {
     "name": "stderr",
     "output_type": "stream",
     "text": [
      "Phonemizing shard 88: 100%|█████████▉| 6653/6656 [08:54<00:00, 12.10 examples/s]"
     ]
    },
    {
     "name": "stdout",
     "output_type": "stream",
     "text": [
      "\n"
     ]
    },
    {
     "name": "stderr",
     "output_type": "stream",
     "text": [
      "Phonemizing shard 88: 100%|██████████| 6656/6656 [08:54<00:00, 12.45 examples/s]\n",
      "Saving the dataset (1/1 shards): 100%|██████████| 6656/6656 [00:00<00:00, 45335.65 examples/s]\n"
     ]
    },
    {
     "name": "stdout",
     "output_type": "stream",
     "text": [
      "Shard 88 completed in 535.63 seconds"
     ]
    },
    {
     "name": "stderr",
     "output_type": "stream",
     "text": [
      "Phonemizing shard 92:  58%|█████▊    | 3849/6656 [05:22<07:58,  5.87 examples/s]"
     ]
    },
    {
     "name": "stdout",
     "output_type": "stream",
     "text": [
      "\n",
      "Processing shard 97 ...\n",
      "Shard 97: 6656 examples to process\n"
     ]
    },
    {
     "name": "stderr",
     "output_type": "stream",
     "text": [
      "Phonemizing shard 90: 100%|██████████| 6656/6656 [08:50<00:00, 12.54 examples/s]  \n",
      "Saving the dataset (1/1 shards): 100%|██████████| 6656/6656 [00:00<00:00, 37501.36 examples/s]\n",
      "Phonemizing shard 91:  64%|██████▎   | 4233/6656 [06:04<03:31, 11.45 examples/s]"
     ]
    },
    {
     "name": "stdout",
     "output_type": "stream",
     "text": [
      "Shard 90 completed in 531.70 seconds\n",
      "Processing shard 98 ...\n",
      "Shard 98: 6656 examples to process\n"
     ]
    },
    {
     "name": "stderr",
     "output_type": "stream",
     "text": [
      "Phonemizing shard 91: 100%|██████████| 6656/6656 [09:19<00:00, 11.90 examples/s]  \n",
      "Saving the dataset (1/1 shards): 100%|██████████| 6656/6656 [00:00<00:00, 36335.83 examples/s]\n"
     ]
    },
    {
     "name": "stdout",
     "output_type": "stream",
     "text": [
      "Shard 91 completed in 560.06 seconds\n",
      "Processing shard 99 ...\n",
      "Shard 99: 6656 examples to process\n"
     ]
    },
    {
     "name": "stderr",
     "output_type": "stream",
     "text": [
      "Phonemizing shard 92: 100%|██████████| 6656/6656 [10:25<00:00, 10.64 examples/s]  \n",
      "Saving the dataset (1/1 shards): 100%|██████████| 6656/6656 [00:00<00:00, 31391.19 examples/s]\n"
     ]
    },
    {
     "name": "stdout",
     "output_type": "stream",
     "text": [
      "Shard 92 completed in 626.57 seconds\n"
     ]
    },
    {
     "name": "stderr",
     "output_type": "stream",
     "text": [
      "Phonemizing shard 93: 100%|██████████| 6656/6656 [10:40<00:00, 10.39 examples/s]\n",
      "Saving the dataset (1/1 shards): 100%|██████████| 6656/6656 [00:00<00:00, 31741.07 examples/s]\n"
     ]
    },
    {
     "name": "stdout",
     "output_type": "stream",
     "text": [
      "Shard 93 completed in 641.64 seconds\n"
     ]
    },
    {
     "name": "stderr",
     "output_type": "stream",
     "text": [
      "Phonemizing shard 94: 100%|██████████| 6656/6656 [09:47<00:00, 11.32 examples/s]\n",
      "Saving the dataset (1/1 shards): 100%|██████████| 6656/6656 [00:00<00:00, 36484.84 examples/s]\n",
      "Phonemizing shard 99:  52%|█████▏    | 3483/6656 [03:05<01:58, 26.78 examples/s]"
     ]
    },
    {
     "name": "stdout",
     "output_type": "stream",
     "text": [
      "Shard 94 completed in 588.88 seconds\n"
     ]
    },
    {
     "name": "stderr",
     "output_type": "stream",
     "text": [
      "Phonemizing shard 95: 100%|██████████| 6656/6656 [09:37<00:00, 11.53 examples/s] \n",
      "Saving the dataset (1/1 shards): 100%|██████████| 6656/6656 [00:00<00:00, 47470.87 examples/s]\n"
     ]
    },
    {
     "name": "stdout",
     "output_type": "stream",
     "text": [
      "Shard 95 completed in 578.06 seconds\n"
     ]
    },
    {
     "name": "stderr",
     "output_type": "stream",
     "text": [
      "Phonemizing shard 97: 100%|██████████| 6656/6656 [08:04<00:00, 13.73 examples/s] \n",
      "Saving the dataset (1/1 shards): 100%|██████████| 6656/6656 [00:00<00:00, 53132.57 examples/s]\n"
     ]
    },
    {
     "name": "stdout",
     "output_type": "stream",
     "text": [
      "Shard 97 completed in 485.76 seconds\n"
     ]
    },
    {
     "name": "stderr",
     "output_type": "stream",
     "text": [
      "Phonemizing shard 98: 100%|██████████| 6656/6656 [07:43<00:00, 14.35 examples/s] \n",
      "Saving the dataset (1/1 shards): 100%|██████████| 6656/6656 [00:00<00:00, 28243.07 examples/s]\n"
     ]
    },
    {
     "name": "stdout",
     "output_type": "stream",
     "text": [
      "Shard 98 completed in 464.74 seconds\n"
     ]
    },
    {
     "name": "stderr",
     "output_type": "stream",
     "text": [
      "Phonemizing shard 96: 100%|██████████| 6656/6656 [08:57<00:00, 12.38 examples/s]\n",
      "Saving the dataset (1/1 shards): 100%|██████████| 6656/6656 [00:00<00:00, 72810.49 examples/s]\n"
     ]
    },
    {
     "name": "stdout",
     "output_type": "stream",
     "text": [
      "Shard 96 completed in 538.35 seconds\n"
     ]
    },
    {
     "name": "stderr",
     "output_type": "stream",
     "text": [
      "Phonemizing shard 99: 100%|██████████| 6656/6656 [06:18<00:00, 17.56 examples/s]\n",
      "Saving the dataset (1/1 shards): 100%|██████████| 6656/6656 [00:00<00:00, 77864.02 examples/s]\n"
     ]
    },
    {
     "name": "stdout",
     "output_type": "stream",
     "text": [
      "Shard 99 completed in 379.85 seconds\n",
      "Processing completed. Failed shards: 0\n"
     ]
    }
   ],
   "source": [
    "# Update the processing cell with better timeout and worker settings\n",
    "\n",
    "import os\n",
    "from pebble import ProcessPool\n",
    "from concurrent.futures import TimeoutError\n",
    "\n",
    "# Reduce workers to avoid resource contention and increase timeout\n",
    "max_workers = 8  # Reduced from 20\n",
    "timeout_seconds = 1800  # Increased to 30 minutes\n",
    "failed_shards = []\n",
    "\n",
    "print(f\"Processing {num_shards} shards with {max_workers} workers...\")\n",
    "print(f\"Timeout set to {timeout_seconds} seconds ({timeout_seconds//60} minutes)\")\n",
    "\n",
    "with ProcessPool(max_workers=max_workers) as pool:\n",
    "    future = pool.map(process_shard, range(num_shards), timeout=timeout_seconds)\n",
    "    \n",
    "    try:\n",
    "        for i, result in enumerate(future.result()):\n",
    "            if isinstance(result, Exception):\n",
    "                print(f\"Shard {i} failed: {result}\")\n",
    "                failed_shards.append(i)\n",
    "            else:\n",
    "                if i % 10 == 0:  # Progress indicator\n",
    "                    print(f\"Completed {i+1}/{num_shards} shards\")\n",
    "    except Exception as e:\n",
    "        print(f\"Processing error: {e}\")\n",
    "\n",
    "print(f\"Processing completed. Failed shards: {len(failed_shards)}\")\n",
    "if failed_shards:\n",
    "    print(f\"Failed shard indices: {failed_shards}\")"
   ]
  },
  {
   "cell_type": "code",
   "execution_count": 11,
   "id": "66742159",
   "metadata": {},
   "outputs": [
    {
     "name": "stdout",
     "output_type": "stream",
     "text": [
      "Existing shards: 99/100\n",
      "Pending shards: 1\n",
      "Processing 1 pending shards...\n"
     ]
    }
   ],
   "source": [
    "# Add this cell before processing to check existing shards\n",
    "\n",
    "def check_existing_shards():\n",
    "    \"\"\"Check which shards already exist\"\"\"\n",
    "    existing_shards = []\n",
    "    pending_shards = []\n",
    "    \n",
    "    for i in range(num_shards):\n",
    "        directory = root_directory + \"/shard_\" + str(i)\n",
    "        if os.path.exists(directory):\n",
    "            existing_shards.append(i)\n",
    "        else:\n",
    "            pending_shards.append(i)\n",
    "    \n",
    "    print(f\"Existing shards: {len(existing_shards)}/{num_shards}\")\n",
    "    print(f\"Pending shards: {len(pending_shards)}\")\n",
    "    \n",
    "    return pending_shards\n",
    "\n",
    "# Check existing shards first\n",
    "pending_shards = check_existing_shards()\n",
    "\n",
    "if not pending_shards:\n",
    "    print(\"All shards already processed!\")\n",
    "else:\n",
    "    print(f\"Processing {len(pending_shards)} pending shards...\")"
   ]
  },
  {
   "cell_type": "code",
   "execution_count": 12,
   "id": "f1d8eb6a",
   "metadata": {},
   "outputs": [
    {
     "name": "stdout",
     "output_type": "stream",
     "text": [
      "Processing 1 pending shards...\n",
      "Processing shard 0 ...\n",
      "Shard 0: 6657 examples to process\n"
     ]
    },
    {
     "name": "stderr",
     "output_type": "stream",
     "text": [
      "Phonemizing shard 0: 100%|██████████| 6657/6657 [33:03<00:00,  3.36 examples/s]  \n",
      "Saving the dataset (1/1 shards): 100%|██████████| 6657/6657 [00:00<00:00, 11291.57 examples/s]\n"
     ]
    },
    {
     "name": "stdout",
     "output_type": "stream",
     "text": [
      "Shard 0 completed in 1984.56 seconds\n",
      "Progress: 1/1 shards completed\n",
      "Processing completed. Failed shards: 0\n"
     ]
    }
   ],
   "source": [
    "# Process only pending shards\n",
    "\n",
    "if pending_shards:\n",
    "    max_workers = 6  # Conservative number of workers\n",
    "    timeout_seconds = 2400  # 40 minutes timeout\n",
    "    failed_shards = []\n",
    "    \n",
    "    print(f\"Processing {len(pending_shards)} pending shards...\")\n",
    "    \n",
    "    with ProcessPool(max_workers=max_workers) as pool:\n",
    "        future = pool.map(process_shard, pending_shards, timeout=timeout_seconds)\n",
    "        \n",
    "        try:\n",
    "            for i, result in enumerate(future.result()):\n",
    "                if isinstance(result, Exception):\n",
    "                    print(f\"Shard {pending_shards[i]} failed: {result}\")\n",
    "                    failed_shards.append(pending_shards[i])\n",
    "                else:\n",
    "                    if i % 5 == 0:  # Progress indicator every 5 shards\n",
    "                        print(f\"Progress: {i+1}/{len(pending_shards)} shards completed\")\n",
    "        except Exception as e:\n",
    "            print(f\"Processing error: {e}\")\n",
    "    \n",
    "    print(f\"Processing completed. Failed shards: {len(failed_shards)}\")\n",
    "else:\n",
    "    print(\"No pending shards to process!\")"
   ]
  },
  {
   "cell_type": "markdown",
   "id": "b78caee6",
   "metadata": {},
   "source": [
    "### Collect all shards to form the processed dataset"
   ]
  },
  {
   "cell_type": "code",
   "execution_count": 13,
   "id": "0568da38",
   "metadata": {},
   "outputs": [
    {
     "name": "stdout",
     "output_type": "stream",
     "text": [
      "shard_0 loaded\n",
      "shard_1 loaded\n",
      "shard_10 loaded\n",
      "shard_11 loaded\n",
      "shard_12 loaded\n",
      "shard_13 loaded\n",
      "shard_14 loaded\n",
      "shard_15 loaded\n",
      "shard_16 loaded\n",
      "shard_17 loaded\n",
      "shard_18 loaded\n",
      "shard_19 loaded\n",
      "shard_2 loaded\n",
      "shard_20 loaded\n",
      "shard_21 loaded\n",
      "shard_22 loaded\n",
      "shard_23 loaded\n",
      "shard_24 loaded\n",
      "shard_25 loaded\n",
      "shard_26 loaded\n",
      "shard_27 loaded\n",
      "shard_28 loaded\n",
      "shard_29 loaded\n",
      "shard_3 loaded\n",
      "shard_30 loaded\n",
      "shard_31 loaded\n",
      "shard_32 loaded\n",
      "shard_33 loaded\n",
      "shard_34 loaded\n",
      "shard_35 loaded\n",
      "shard_36 loaded\n",
      "shard_37 loaded\n",
      "shard_38 loaded\n",
      "shard_39 loaded\n",
      "shard_4 loaded\n",
      "shard_40 loaded\n",
      "shard_41 loaded\n",
      "shard_42 loaded\n",
      "shard_43 loaded\n",
      "shard_44 loaded\n",
      "shard_45 loaded\n",
      "shard_46 loaded\n",
      "shard_47 loaded\n",
      "shard_48 loaded\n",
      "shard_49 loaded\n",
      "shard_5 loaded\n",
      "shard_50 loaded\n",
      "shard_51 loaded\n",
      "shard_52 loaded\n",
      "shard_53 loaded\n",
      "shard_54 loaded\n",
      "shard_55 loaded\n",
      "shard_56 loaded\n",
      "shard_57 loaded\n",
      "shard_58 loaded\n",
      "shard_59 loaded\n",
      "shard_6 loaded\n",
      "shard_60 loaded\n",
      "shard_61 loaded\n",
      "shard_62 loaded\n",
      "shard_63 loaded\n",
      "shard_64 loaded\n",
      "shard_65 loaded\n",
      "shard_66 loaded\n",
      "shard_67 loaded\n",
      "shard_68 loaded\n",
      "shard_69 loaded\n",
      "shard_7 loaded\n",
      "shard_70 loaded\n",
      "shard_71 loaded\n",
      "shard_72 loaded\n",
      "shard_73 loaded\n",
      "shard_74 loaded\n",
      "shard_75 loaded\n",
      "shard_76 loaded\n",
      "shard_77 loaded\n",
      "shard_78 loaded\n",
      "shard_79 loaded\n",
      "shard_8 loaded\n",
      "shard_80 loaded\n",
      "shard_81 loaded\n",
      "shard_82 loaded\n",
      "shard_83 loaded\n",
      "shard_84 loaded\n",
      "shard_85 loaded\n",
      "shard_86 loaded\n",
      "shard_87 loaded\n",
      "shard_88 loaded\n",
      "shard_89 loaded\n",
      "shard_9 loaded\n",
      "shard_90 loaded\n",
      "shard_91 loaded\n",
      "shard_92 loaded\n",
      "shard_93 loaded\n",
      "shard_94 loaded\n",
      "shard_95 loaded\n",
      "shard_96 loaded\n",
      "shard_97 loaded\n",
      "shard_98 loaded\n",
      "shard_99 loaded\n"
     ]
    }
   ],
   "source": [
    "from datasets import load_from_disk, concatenate_datasets\n",
    "\n",
    "output = [dI for dI in os.listdir(root_directory) if os.path.isdir(os.path.join(root_directory,dI))]\n",
    "datasets = []\n",
    "for o in output:\n",
    "    directory = root_directory + \"/\" + o\n",
    "    try:\n",
    "        shard = load_from_disk(directory)\n",
    "        datasets.append(shard)\n",
    "        print(\"%s loaded\" % o)\n",
    "    except:\n",
    "        continue"
   ]
  },
  {
   "cell_type": "code",
   "execution_count": 14,
   "id": "c1547f2c",
   "metadata": {},
   "outputs": [
    {
     "name": "stderr",
     "output_type": "stream",
     "text": [
      "Saving the dataset (7/7 shards): 100%|██████████| 665622/665622 [00:29<00:00, 22564.21 examples/s]"
     ]
    },
    {
     "name": "stdout",
     "output_type": "stream",
     "text": [
      "Dataset saved to wikipedia_20231101.id.processed\n"
     ]
    },
    {
     "name": "stderr",
     "output_type": "stream",
     "text": [
      "\n"
     ]
    }
   ],
   "source": [
    "dataset = concatenate_datasets(datasets)\n",
    "dataset.save_to_disk(config['data_folder'])\n",
    "print('Dataset saved to %s' % config['data_folder'])"
   ]
  },
  {
   "cell_type": "code",
   "execution_count": 15,
   "id": "ce886d15",
   "metadata": {},
   "outputs": [
    {
     "data": {
      "text/plain": [
       "Dataset({\n",
       "    features: ['id', 'url', 'title', 'input_ids', 'phonemes'],\n",
       "    num_rows: 665622\n",
       "})"
      ]
     },
     "execution_count": 15,
     "metadata": {},
     "output_type": "execute_result"
    }
   ],
   "source": [
    "# check the dataset size\n",
    "dataset"
   ]
  },
  {
   "cell_type": "markdown",
   "id": "cdf6f6f6",
   "metadata": {},
   "source": [
    "### Remove unneccessary tokens from the pre-trained tokenizer\n",
    "The pre-trained tokenizer contains a lot of tokens that are not used in our dataset, so we need to remove these tokens. We also want to predict the word in lower cases because cases do not matter that much for TTS. Pruning the tokenizer is much faster than training a new tokenizer from scratch. "
   ]
  },
  {
   "cell_type": "code",
   "execution_count": 16,
   "id": "28cec407",
   "metadata": {},
   "outputs": [],
   "source": [
    "from simple_loader import FilePathDataset, build_dataloader\n",
    "\n",
    "file_data = FilePathDataset(dataset)\n",
    "loader = build_dataloader(file_data, num_workers=32, batch_size=128)"
   ]
  },
  {
   "cell_type": "code",
   "execution_count": 17,
   "id": "0b7504eb",
   "metadata": {},
   "outputs": [],
   "source": [
    "special_token = config['dataset_params']['word_separator']"
   ]
  },
  {
   "cell_type": "code",
   "execution_count": 18,
   "id": "0fcb44a2",
   "metadata": {},
   "outputs": [
    {
     "name": "stderr",
     "output_type": "stream",
     "text": [
      "100%|██████████| 5200/5200 [00:50<00:00, 102.45it/s]\n"
     ]
    }
   ],
   "source": [
    "# get all unique tokens in the entire dataset\n",
    "\n",
    "from tqdm import tqdm\n",
    "\n",
    "unique_index = [special_token]\n",
    "for _, batch in enumerate(tqdm(loader)):\n",
    "    unique_index.extend(batch)\n",
    "    unique_index = list(set(unique_index))"
   ]
  },
  {
   "cell_type": "code",
   "execution_count": 19,
   "id": "1445662d",
   "metadata": {},
   "outputs": [
    {
     "name": "stderr",
     "output_type": "stream",
     "text": [
      "100%|██████████| 188335/188335 [00:02<00:00, 69927.92it/s]\n"
     ]
    }
   ],
   "source": [
    "# get each token's lower case\n",
    "\n",
    "lower_tokens = []\n",
    "for t in tqdm(unique_index):\n",
    "    word = tokenizer.decode([t])\n",
    "    if word.lower() != word:\n",
    "        t = tokenizer.encode([word.lower()])[0]\n",
    "        lower_tokens.append(t)\n",
    "    else:\n",
    "        lower_tokens.append(t)"
   ]
  },
  {
   "cell_type": "code",
   "execution_count": 20,
   "id": "fa2dea92",
   "metadata": {},
   "outputs": [],
   "source": [
    "lower_tokens = (list(set(lower_tokens)))"
   ]
  },
  {
   "cell_type": "code",
   "execution_count": 21,
   "id": "2a76cda1",
   "metadata": {},
   "outputs": [
    {
     "name": "stderr",
     "output_type": "stream",
     "text": [
      "100%|██████████| 188335/188335 [00:19<00:00, 9614.14it/s] \n"
     ]
    }
   ],
   "source": [
    "# redo the mapping for lower number of tokens\n",
    "\n",
    "token_maps = {}\n",
    "for t in tqdm(unique_index):\n",
    "    word = tokenizer.decode([t])\n",
    "    word = word.lower()\n",
    "    new_t = tokenizer.encode([word.lower()])[0]\n",
    "    token_maps[t] = {'word': word, 'token': lower_tokens.index(new_t)}"
   ]
  },
  {
   "cell_type": "code",
   "execution_count": 22,
   "id": "c1c94be2",
   "metadata": {},
   "outputs": [
    {
     "name": "stdout",
     "output_type": "stream",
     "text": [
      "Token mapper saved to token_maps.pkl\n"
     ]
    }
   ],
   "source": [
    "import pickle\n",
    "with open(config['dataset_params']['token_maps'], 'wb') as handle:\n",
    "    pickle.dump(token_maps, handle)\n",
    "print('Token mapper saved to %s' % config['dataset_params']['token_maps'])"
   ]
  },
  {
   "cell_type": "markdown",
   "id": "1c9e968e",
   "metadata": {},
   "source": [
    "### Test the dataset with dataloader\n"
   ]
  },
  {
   "cell_type": "code",
   "execution_count": 23,
   "id": "f9025e2f",
   "metadata": {},
   "outputs": [
    {
     "name": "stdout",
     "output_type": "stream",
     "text": [
      "177\n"
     ]
    }
   ],
   "source": [
    "from dataloader import build_dataloader\n",
    "\n",
    "train_loader = build_dataloader(dataset, batch_size=32, num_workers=0, dataset_config=config['dataset_params'])"
   ]
  },
  {
   "cell_type": "code",
   "execution_count": 24,
   "id": "70874215",
   "metadata": {},
   "outputs": [],
   "source": [
    "_, (words, labels, phonemes, input_lengths, masked_indices) = next(enumerate(train_loader))"
   ]
  },
  {
   "cell_type": "code",
   "execution_count": 27,
   "id": "33d76831",
   "metadata": {},
   "outputs": [
    {
     "name": "stdout",
     "output_type": "stream",
     "text": [
      "Shard 0 info:\n",
      "- Total samples: 6657\n",
      "- Columns: ['id', 'url', 'title', 'input_ids', 'phonemes']\n",
      "============================================================\n",
      "\n",
      "Sample 1:\n",
      "Input IDs: [24, 24, 2, 24, 24, 82734, 24, 3159, 22, 24]...\n",
      "Phonemes: ['ˈasam', 'dˌɛoksˌiribˌonuklˈɛat', ',', 'lˈɛbih', 'dˈikənal', 'dˈɛŋan', 'siŋkˈatan', 'dnˈa', '(', 'bahˈasa']...\n",
      "Decoded words (first 5): ['<unk>', '<unk>', ',', '<unk>', '<unk>']\n",
      "Phonemes (first 5): ['ˈasam', 'dˌɛoksˌiribˌonuklˈɛat', ',', 'lˈɛbih', 'dˈikənal']\n",
      "----------------------------------------\n",
      "\n",
      "Sample 2:\n",
      "Input IDs: [5305, 35337, 8445, 1260, 40509, 39, 21, 24, 24, 24]...\n",
      "Phonemes: ['muhˈammad', 'ˈanwar', 'ˈɛl', '-', 'sˈadat', ';', ')', 'adˈalah', 'səˈɔraŋ', 'pˌolitˈikus']...\n",
      "Decoded words (first 5): ['Muhammad', 'Anwar', 'el', '-', 'Sadat']\n",
      "Phonemes (first 5): ['muhˈammad', 'ˈanwar', 'ˈɛl', '-', 'sˈadat']\n",
      "----------------------------------------\n",
      "\n",
      "Sample 3:\n",
      "Input IDs: [56142, 27291, 24, 24, 90205, 5021, 24, 47071, 24, 24]...\n",
      "Phonemes: ['dˈatuk', 'ˈazhar', 'mˈansɔr', 'adˈalah', 'ˈɔraŋ', 'mˌalajsˈia', 'pərtˈama', 'jˈaŋ', 'bərhˈasil', 'məŋˌɛlilˈiŋi']...\n",
      "Decoded words (first 5): ['Datuk', 'Azhar', '<unk>', '<unk>', 'orang']\n",
      "Phonemes (first 5): ['dˈatuk', 'ˈazhar', 'mˈansɔr', 'adˈalah', 'ˈɔraŋ']\n",
      "----------------------------------------\n"
     ]
    }
   ],
   "source": [
    "# Inspect shard content - lihat isi phoneme dari shard tertentu\n",
    "\n",
    "from datasets import load_from_disk\n",
    "\n",
    "def inspect_shard(shard_number, num_samples=5):\n",
    "    \"\"\"\n",
    "    Melihat isi phoneme dari shard tertentu\n",
    "    \n",
    "    Args:\n",
    "        shard_number: nomor shard yang ingin dilihat (0-99)\n",
    "        num_samples: jumlah contoh yang ingin ditampilkan\n",
    "    \"\"\"\n",
    "    shard_directory = f\"{root_directory}/shard_{shard_number}\"\n",
    "    \n",
    "    if not os.path.exists(shard_directory):\n",
    "        print(f\"Shard {shard_number} tidak ada di {shard_directory}\")\n",
    "        return\n",
    "    \n",
    "    try:\n",
    "        # Load shard\n",
    "        shard_data = load_from_disk(shard_directory)\n",
    "        print(f\"Shard {shard_number} info:\")\n",
    "        print(f\"- Total samples: {len(shard_data)}\")\n",
    "        print(f\"- Columns: {shard_data.column_names}\")\n",
    "        print(\"=\"*60)\n",
    "        \n",
    "        # Tampilkan beberapa contoh\n",
    "        for i in range(min(num_samples, len(shard_data))):\n",
    "            sample = shard_data[i]\n",
    "            print(f\"\\nSample {i+1}:\")\n",
    "            print(f\"Input IDs: {sample['input_ids'][:10]}{'...' if len(sample['input_ids']) > 10 else ''}\")\n",
    "            print(f\"Phonemes: {sample['phonemes'][:10]}{'...' if len(sample['phonemes']) > 10 else ''}\")\n",
    "            \n",
    "            # Decode beberapa token untuk melihat isi sebenarnya\n",
    "            if len(sample['input_ids']) > 0:\n",
    "                decoded_words = [tokenizer.decode([token_id]) for token_id in sample['input_ids'][:5]]\n",
    "                print(f\"Decoded words (first 5): {decoded_words}\")\n",
    "            \n",
    "            print(f\"Phonemes (first 5): {sample['phonemes'][:5]}\")\n",
    "            print(\"-\"*40)\n",
    "            \n",
    "    except Exception as e:\n",
    "        print(f\"Error loading shard {shard_number}: {e}\")\n",
    "\n",
    "# Contoh penggunaan: lihat isi shard 0\n",
    "inspect_shard(0, num_samples=3)"
   ]
  }
 ],
 "metadata": {
  "kernelspec": {
   "display_name": "PL-BERT-ID",
   "language": "python",
   "name": "python3"
  },
  "language_info": {
   "codemirror_mode": {
    "name": "ipython",
    "version": 3
   },
   "file_extension": ".py",
   "mimetype": "text/x-python",
   "name": "python",
   "nbconvert_exporter": "python",
   "pygments_lexer": "ipython3",
   "version": "3.13.7"
  }
 },
 "nbformat": 4,
 "nbformat_minor": 5
}
