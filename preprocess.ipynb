{
 "cells": [
  {
   "cell_type": "markdown",
   "id": "c1d31f54",
   "metadata": {},
   "source": [
    "# Notebook for preprocessing Wikipedia (Indonesia) dataset"
   ]
  },
  {
   "cell_type": "code",
   "execution_count": 1,
   "id": "06e4ae23-1dd8-4931-86ac-be38b2dbff3a",
   "metadata": {},
   "outputs": [],
   "source": [
    "!rm -rf wiki_phoneme\n",
    "!rm -rf wikipedia_20231101.id.processed"
   ]
  },
  {
   "cell_type": "markdown",
   "id": "21eb8ed4",
   "metadata": {},
   "source": [
    "### Initilizing phonemizer and tokenizer"
   ]
  },
  {
   "cell_type": "code",
   "execution_count": 2,
   "id": "d6ca5ee4",
   "metadata": {},
   "outputs": [],
   "source": [
    "import yaml\n",
    "\n",
    "config_path = \"Configs/config.yml\" # you can change it to anything else\n",
    "config = yaml.safe_load(open(config_path))"
   ]
  },
  {
   "cell_type": "code",
   "execution_count": 3,
   "id": "b52b79ee",
   "metadata": {},
   "outputs": [
    {
     "name": "stderr",
     "output_type": "stream",
     "text": [
      "/workspace/.venv/lib/python3.13/site-packages/tqdm/auto.py:21: TqdmWarning: IProgress not found. Please update jupyter and ipywidgets. See https://ipywidgets.readthedocs.io/en/stable/user_install.html\n",
      "  from .autonotebook import tqdm as notebook_tqdm\n"
     ]
    }
   ],
   "source": [
    "import sys\n",
    "sys.path.insert(0, '/workspace/src/PL-BERT-ID')\n",
    "from phonemize import phonemize, EnIndPhonemizer"
   ]
  },
  {
   "cell_type": "code",
   "execution_count": 4,
   "id": "2b363b0a",
   "metadata": {},
   "outputs": [],
   "source": [
    "global_phonemizer = EnIndPhonemizer(ipa=True, keep_stress=True, sep=\"\")"
   ]
  },
  {
   "cell_type": "code",
   "execution_count": 5,
   "id": "aeefa759",
   "metadata": {},
   "outputs": [],
   "source": [
    "import os\n",
    "os.environ['TRUST_REMOTE_CODE'] = 'True'"
   ]
  },
  {
   "cell_type": "code",
   "execution_count": 6,
   "id": "92d58c92",
   "metadata": {},
   "outputs": [],
   "source": [
    "from transformers import GPT2Tokenizer\n",
    "tokenizer = GPT2Tokenizer.from_pretrained('flax-community/gpt2-small-indonesian')"
   ]
  },
  {
   "cell_type": "markdown",
   "id": "2eb25417",
   "metadata": {},
   "source": [
    "### Process dataset"
   ]
  },
  {
   "cell_type": "markdown",
   "id": "aeb456f6",
   "metadata": {},
   "source": [
    "Since using load_dataset with the Indonesian Wikipedia (id) resulted in errors (e.g., \"Not Found\"), we will download and load the dataset manually.\n",
    "\n",
    "You can download the dataset from this link: https://huggingface.co/datasets/wikimedia/wikipedia/tree/main/20231101.id."
   ]
  },
  {
   "cell_type": "code",
   "execution_count": 7,
   "id": "25e5ae16",
   "metadata": {
    "scrolled": true
   },
   "outputs": [
    {
     "name": "stdout",
     "output_type": "stream",
     "text": [
      "Dataset loaded successfully!\n",
      "Dataset({\n",
      "    features: ['id', 'url', 'title', 'text'],\n",
      "    num_rows: 665622\n",
      "})\n"
     ]
    }
   ],
   "source": [
    "from datasets import load_dataset\n",
    "\n",
    "# Use a glob pattern to load all Parquet files in the 'wikipedia' folder.\n",
    "# This pattern will search for all files ending with '.parquet' within the folder.\n",
    "parquet_folder = \"/workspace/src/PL-BERT-ID/wikipedia/*.parquet\"\n",
    "\n",
    "try:\n",
    "    dataset = load_dataset(\"parquet\", data_files=parquet_folder)\n",
    "    if isinstance(dataset, dict) or hasattr(dataset, \"keys\"):\n",
    "        split_name = \"train\" if \"train\" in dataset else list(dataset.keys())[0]\n",
    "        dataset = dataset[split_name]\n",
    "    print(\"Dataset loaded successfully!\")\n",
    "    print(dataset)\n",
    "except Exception as e:\n",
    "    print(f\"An error occurred while loading the dataset: {e}\")"
   ]
  },
  {
   "cell_type": "code",
   "execution_count": 8,
   "id": "ca7ca2f3",
   "metadata": {},
   "outputs": [],
   "source": [
    "root_directory = \"./wiki_phoneme\" # set up root directory for multiprocessor processing"
   ]
  },
  {
   "cell_type": "code",
   "execution_count": 9,
   "id": "92a578d6",
   "metadata": {},
   "outputs": [],
   "source": [
    "# Update the process_shard function with better error handling\n",
    "\n",
    "import os\n",
    "import time\n",
    "\n",
    "num_shards = 100\n",
    "\n",
    "def process_shard(i):\n",
    "    directory = root_directory + \"/shard_\" + str(i)\n",
    "    if os.path.exists(directory):\n",
    "        print(\"Shard %d already exists!\" % i)\n",
    "        return f\"Shard {i} already exists\"\n",
    "    \n",
    "    start_time = time.time()\n",
    "    print('Processing shard %d ...' % i)\n",
    "    \n",
    "    try:\n",
    "        shard = dataset.shard(num_shards=num_shards, index=i)\n",
    "        print(f'Shard {i}: {len(shard)} examples to process')\n",
    "        \n",
    "        # Process in smaller batches to avoid memory issues\n",
    "        processed_dataset = shard.map(\n",
    "            lambda t: phonemize(t['text'], global_phonemizer, tokenizer), \n",
    "            remove_columns=['text'],\n",
    "            batch_size=100,  # Process in smaller batches\n",
    "            desc=f\"Phonemizing shard {i}\"\n",
    "        )\n",
    "        \n",
    "        if not os.path.exists(directory):\n",
    "            os.makedirs(directory)\n",
    "        processed_dataset.save_to_disk(directory)\n",
    "        \n",
    "        elapsed = time.time() - start_time\n",
    "        print(f'Shard {i} completed in {elapsed:.2f} seconds')\n",
    "        return f\"Shard {i} completed successfully\"\n",
    "        \n",
    "    except Exception as e:\n",
    "        print(f'Shard {i} failed: {str(e)}')\n",
    "        return Exception(f\"Shard {i} failed: {str(e)}\")"
   ]
  },
  {
   "cell_type": "code",
   "execution_count": 10,
   "id": "d73caf6f",
   "metadata": {},
   "outputs": [],
   "source": [
    "from pebble import ProcessPool\n",
    "from concurrent.futures import TimeoutError"
   ]
  },
  {
   "cell_type": "markdown",
   "id": "c21f9dcf",
   "metadata": {},
   "source": [
    "#### Note: You will need to run the following cell multiple times to process all shards because some will fail. Depending on how fast you process each shard, you will need to change the timeout to a longer value to make more shards processed before being killed.\n"
   ]
  },
  {
   "cell_type": "code",
   "execution_count": 11,
   "id": "04261364",
   "metadata": {
    "scrolled": true
   },
   "outputs": [
    {
     "name": "stdout",
     "output_type": "stream",
     "text": [
      "Processing 100 shards with 24 workers...\n",
      "Timeout set to 2400 seconds (40 minutes)\n",
      "Processing shard 0 ...Processing shard 1 ...Processing shard 2 ...\n",
      "Processing shard 3 ...Processing shard 4 ...Processing shard 5 ...\n",
      "\n",
      "\n",
      "\n",
      "Processing shard 6 ...Processing shard 8 ...Processing shard 7 ...\n",
      "Processing shard 9 ...\n",
      "Processing shard 10 ...\n",
      "\n",
      "\n",
      "Processing shard 11 ...Processing shard 12 ...Shard 0: 6657 examples to process\n",
      "Shard 2: 6657 examples to processProcessing shard 16 ...Shard 3: 6657 examples to processShard 1: 6657 examples to processShard 7: 6657 examples to processProcessing shard 15 ...Shard 5: 6657 examples to process\n",
      "\n",
      "Shard 4: 6657 examples to processProcessing shard 14 ...\n",
      "Processing shard 13 ...Processing shard 17 ...Shard 8: 6657 examples to processProcessing shard 18 ...Processing shard 19 ...Processing shard 20 ...\n",
      "Shard 9: 6657 examples to processProcessing shard 21 ...\n",
      "\n",
      "\n",
      "Shard 6: 6657 examples to processProcessing shard 22 ...\n",
      "\n",
      "\n",
      "\n",
      "\n",
      "Processing shard 23 ...\n",
      "\n",
      "\n",
      "Shard 10: 6657 examples to process\n",
      "\n",
      "\n",
      "\n",
      "\n",
      "Shard 11: 6657 examples to process\n",
      "\n",
      "Shard 12: 6657 examples to process\n",
      "\n",
      "\n",
      "Shard 17: 6657 examples to process\n",
      "Shard 14: 6657 examples to processShard 20: 6657 examples to process\n",
      "Shard 19: 6657 examples to processShard 13: 6657 examples to process\n",
      "\n",
      "Shard 15: 6657 examples to process\n",
      "Shard 22: 6656 examples to process\n",
      "Shard 18: 6657 examples to processShard 23: 6656 examples to processShard 16: 6657 examples to process\n",
      "\n",
      "\n",
      "\n",
      "\n",
      "Shard 21: 6657 examples to process\n"
     ]
    },
    {
     "name": "stderr",
     "output_type": "stream",
     "text": [
      "Phonemizing shard 5:  23% 1562/6657 [39:58<55:21,  1.53 examples/s]s]] "
     ]
    },
    {
     "name": "stdout",
     "output_type": "stream",
     "text": [
      "Processing error: [Errno Task timeout] 2400\n"
     ]
    },
    {
     "name": "stderr",
     "output_type": "stream",
     "text": [
      "Phonemizing shard 17:  13% 876/6657 [39:59<58:36,  1.64 examples/s]  ]"
     ]
    },
    {
     "name": "stdout",
     "output_type": "stream",
     "text": [
      "Processing shard 24 ...\n",
      "\n",
      "Processing shard 25 ...Processing shard 26 ...\n",
      "Shard 24: 6656 examples to processShard 25: 6656 examples to process\n",
      "\n",
      "Processing shard 27 ...Shard 26: 6656 examples to process\n",
      "\n",
      "Shard 27: 6656 examples to processProcessing shard 28 ...\n",
      "\n",
      "Processing shard 29 ...Shard 28: 6656 examples to process\n",
      "\n",
      "Processing shard 30 ...Shard 29: 6656 examples to process\n",
      "\n",
      "Processing shard 31 ...Shard 30: 6656 examples to process\n",
      "\n",
      "Shard 31: 6656 examples to processProcessing shard 32 ...\n",
      "\n",
      "Processing shard 33 ...Shard 32: 6656 examples to process\n",
      "\n",
      "Processing shard 34 ...\n",
      "Shard 34: 6656 examples to processShard 33: 6656 examples to process\n",
      "\n",
      "Processing shard 35 ...\n",
      "Processing shard 36 ...Shard 35: 6656 examples to process\n",
      "\n",
      "Shard 36: 6656 examples to processProcessing shard 37 ...\n",
      "Shard 37: 6656 examples to process\n",
      "Processing shard 38 ...\n",
      "\n",
      "Processing shard 39 ...Shard 38: 6656 examples to process\n",
      "\n",
      "Processing shard 40 ...\n",
      "Processing shard 41 ...Shard 40: 6656 examples to processShard 39: 6656 examples to process\n",
      "\n",
      "Processing shard 42 ...Processing shard 43 ...Processing shard 44 ...\n",
      "Shard 41: 6656 examples to process\n",
      "\n",
      "\n",
      "Shard 43: 6656 examples to process\n",
      "Shard 42: 6656 examples to processProcessing shard 45 ...\n",
      "Shard 44: 6656 examples to process\n",
      "\n",
      "Processing shard 46 ...Shard 45: 6656 examples to process\n",
      "\n",
      "\n",
      "Shard 46: 6656 examples to process\n",
      "Processing shard 47 ...\n",
      "Shard 47: 6656 examples to process\n"
     ]
    },
    {
     "name": "stderr",
     "output_type": "stream",
     "text": [
      "Phonemizing shard 44: 100% 6656/6656 [08:23<00:00, 13.22 examples/s]s]]\n",
      "Saving the dataset (1/1 shards): 100% 6656/6656 [00:00<00:00, 17307.40 examples/s]\n",
      "Phonemizing shard 43:  96% 6394/6656 [08:26<00:23, 10.94 examples/s]"
     ]
    },
    {
     "name": "stdout",
     "output_type": "stream",
     "text": [
      "Shard 44 completed in 510.24 seconds"
     ]
    },
    {
     "name": "stderr",
     "output_type": "stream",
     "text": [
      "Phonemizing shard 41:  50% 3314/6656 [08:27<03:15, 17.09 examples/s]"
     ]
    },
    {
     "name": "stdout",
     "output_type": "stream",
     "text": [
      "\n"
     ]
    },
    {
     "name": "stderr",
     "output_type": "stream",
     "text": [
      "Phonemizing shard 36:  77% 5109/6656 [08:26<01:53, 13.67 examples/s]"
     ]
    },
    {
     "name": "stdout",
     "output_type": "stream",
     "text": [
      "Processing shard 48 ...\n"
     ]
    },
    {
     "name": "stderr",
     "output_type": "stream",
     "text": [
      "Phonemizing shard 39:  47% 3134/6656 [08:26<03:08, 18.70 examples/s]"
     ]
    },
    {
     "name": "stdout",
     "output_type": "stream",
     "text": [
      "Shard 48: 6656 examples to process"
     ]
    },
    {
     "name": "stderr",
     "output_type": "stream",
     "text": [
      "Phonemizing shard 34:  50% 3341/6656 [08:26<05:09, 10.73 examples/s]"
     ]
    },
    {
     "name": "stdout",
     "output_type": "stream",
     "text": [
      "\n"
     ]
    },
    {
     "name": "stderr",
     "output_type": "stream",
     "text": [
      "Phonemizing shard 45: 100% 6656/6656 [08:30<00:00, 13.05 examples/s]] \n",
      "Saving the dataset (1/1 shards): 100% 6656/6656 [00:00<00:00, 13330.60 examples/s]\n",
      "Phonemizing shard 41:  51% 3382/6656 [08:31<02:37, 20.75 examples/s]"
     ]
    },
    {
     "name": "stdout",
     "output_type": "stream",
     "text": [
      "Shard 45 completed in 514.80 seconds"
     ]
    },
    {
     "name": "stderr",
     "output_type": "stream",
     "text": [
      "Phonemizing shard 46:  96% 6385/6656 [08:30<00:19, 13.65 examples/s]"
     ]
    },
    {
     "name": "stdout",
     "output_type": "stream",
     "text": [
      "\n",
      "Processing shard 49 ..."
     ]
    },
    {
     "name": "stderr",
     "output_type": "stream",
     "text": [
      "Phonemizing shard 39:  48% 3227/6656 [08:30<02:37, 21.72 examples/s]"
     ]
    },
    {
     "name": "stdout",
     "output_type": "stream",
     "text": [
      "\n"
     ]
    },
    {
     "name": "stderr",
     "output_type": "stream",
     "text": [
      "Phonemizing shard 43:  97% 6457/6656 [08:30<00:15, 12.78 examples/s]"
     ]
    },
    {
     "name": "stdout",
     "output_type": "stream",
     "text": [
      "Shard 49: 6656 examples to process"
     ]
    },
    {
     "name": "stderr",
     "output_type": "stream",
     "text": [
      "Phonemizing shard 36:  78% 5165/6656 [08:31<02:14, 11.12 examples/s]"
     ]
    },
    {
     "name": "stdout",
     "output_type": "stream",
     "text": [
      "\n"
     ]
    },
    {
     "name": "stderr",
     "output_type": "stream",
     "text": [
      "Phonemizing shard 46: 100% 6656/6656 [08:46<00:00, 12.64 examples/s]]] \n",
      "Saving the dataset (1/1 shards): 100% 6656/6656 [00:00<00:00, 17167.66 examples/s]\n",
      "Phonemizing shard 36:  81% 5394/6656 [08:48<01:37, 12.98 examples/s]"
     ]
    },
    {
     "name": "stdout",
     "output_type": "stream",
     "text": [
      "Shard 46 completed in 531.58 seconds\n",
      "Processing shard 50 ...\n",
      "Shard 50: 6656 examples to process\n"
     ]
    },
    {
     "name": "stderr",
     "output_type": "stream",
     "text": [
      "Phonemizing shard 43: 100% 6656/6656 [08:55<00:00, 12.43 examples/s]  \n",
      "Saving the dataset (1/1 shards): 100% 6656/6656 [00:00<00:00, 21085.55 examples/s]\n",
      "Phonemizing shard 33:  53% 3558/6656 [08:56<06:03,  8.52 examples/s]"
     ]
    },
    {
     "name": "stdout",
     "output_type": "stream",
     "text": [
      "Shard 43 completed in 539.86 seconds\n",
      "Processing shard 51 ..."
     ]
    },
    {
     "name": "stderr",
     "output_type": "stream",
     "text": [
      "Phonemizing shard 36:  83% 5509/6656 [08:56<01:26, 13.28 examples/s]"
     ]
    },
    {
     "name": "stdout",
     "output_type": "stream",
     "text": [
      "\n"
     ]
    },
    {
     "name": "stderr",
     "output_type": "stream",
     "text": [
      "Phonemizing shard 41:  57% 3813/6656 [08:56<01:49, 25.96 examples/s]"
     ]
    },
    {
     "name": "stdout",
     "output_type": "stream",
     "text": [
      "Shard 51: 6656 examples to process\n"
     ]
    },
    {
     "name": "stderr",
     "output_type": "stream",
     "text": [
      "Phonemizing shard 38: 100% 6656/6656 [09:26<00:00, 11.74 examples/s]s] \n",
      "Saving the dataset (1/1 shards): 100% 6656/6656 [00:00<00:00, 14022.92 examples/s]\n",
      "Phonemizing shard 40:  51% 3364/6656 [09:28<02:11, 25.04 examples/s]"
     ]
    },
    {
     "name": "stdout",
     "output_type": "stream",
     "text": [
      "Shard 38 completed in 571.89 seconds\n"
     ]
    },
    {
     "name": "stderr",
     "output_type": "stream",
     "text": [
      "Phonemizing shard 36:  90% 5958/6656 [09:28<00:35, 19.43 examples/s]"
     ]
    },
    {
     "name": "stdout",
     "output_type": "stream",
     "text": [
      "Processing shard 52 ...\n",
      "Shard 52: 6656 examples to process\n"
     ]
    },
    {
     "name": "stderr",
     "output_type": "stream",
     "text": [
      "Phonemizing shard 41: 100% 6656/6656 [10:08<00:00, 10.94 examples/s]s]]\n",
      "Saving the dataset (1/1 shards): 100% 6656/6656 [00:00<00:00, 14765.26 examples/s]\n"
     ]
    },
    {
     "name": "stdout",
     "output_type": "stream",
     "text": [
      "Shard 41 completed in 611.72 seconds"
     ]
    },
    {
     "name": "stderr",
     "output_type": "stream",
     "text": [
      "Phonemizing shard 40:  64% 4277/6656 [10:08<01:48, 21.92 examples/s]"
     ]
    },
    {
     "name": "stdout",
     "output_type": "stream",
     "text": [
      "\n",
      "Processing shard 53 ...\n",
      "Shard 53: 6656 examples to process\n"
     ]
    },
    {
     "name": "stderr",
     "output_type": "stream",
     "text": [
      "Phonemizing shard 36: 100% 6656/6656 [10:15<00:00, 10.82 examples/s]]] \n",
      "Saving the dataset (1/1 shards): 100% 6656/6656 [00:00<00:00, 17128.06 examples/s]\n",
      "Phonemizing shard 33:  66% 4365/6656 [10:15<05:15,  7.26 examples/s]"
     ]
    },
    {
     "name": "stdout",
     "output_type": "stream",
     "text": [
      "Shard 36 completed in 619.78 seconds\n",
      "Processing shard 54 ...\n",
      "Shard 54: 6656 examples to process\n"
     ]
    },
    {
     "name": "stderr",
     "output_type": "stream",
     "text": [
      "Phonemizing shard 40: 100% 6656/6656 [11:45<00:00,  9.43 examples/s]]] \n",
      "Saving the dataset (1/1 shards): 100% 6656/6656 [00:00<00:00, 14807.59 examples/s]\n",
      "Phonemizing shard 33:  78% 5220/6656 [11:46<02:21, 10.14 examples/s]"
     ]
    },
    {
     "name": "stdout",
     "output_type": "stream",
     "text": [
      "Shard 40 completed in 709.95 seconds\n",
      "Processing shard 55 ...\n",
      "Shard 55: 6656 examples to process\n"
     ]
    },
    {
     "name": "stderr",
     "output_type": "stream",
     "text": [
      "Phonemizing shard 39: 100% 6656/6656 [13:48<00:00,  8.04 examples/s]]]]\n",
      "Saving the dataset (1/1 shards): 100% 6656/6656 [00:00<00:00, 12567.66 examples/s]\n",
      "Phonemizing shard 34:  59% 3925/6656 [13:49<02:59, 15.20 examples/s]"
     ]
    },
    {
     "name": "stdout",
     "output_type": "stream",
     "text": [
      "Shard 39 completed in 832.86 seconds\n"
     ]
    },
    {
     "name": "stderr",
     "output_type": "stream",
     "text": [
      "Phonemizing shard 33:  93% 6199/6656 [13:48<01:21,  5.59 examples/s]"
     ]
    },
    {
     "name": "stdout",
     "output_type": "stream",
     "text": [
      "Processing shard 56 ...\n",
      "Shard 56: 6656 examples to process\n"
     ]
    },
    {
     "name": "stderr",
     "output_type": "stream",
     "text": [
      "Phonemizing shard 37: 100% 6656/6656 [15:31<00:00,  7.14 examples/s]s] \n",
      "Saving the dataset (1/1 shards): 100% 6656/6656 [00:00<00:00, 14365.41 examples/s]\n"
     ]
    },
    {
     "name": "stdout",
     "output_type": "stream",
     "text": [
      "Shard 37 completed in 936.04 seconds\n",
      "Processing shard 57 ...\n",
      "Shard 57: 6656 examples to process\n"
     ]
    },
    {
     "name": "stderr",
     "output_type": "stream",
     "text": [
      "Phonemizing shard 34: 100% 6656/6656 [16:40<00:00,  6.66 examples/s]]  \n",
      "Saving the dataset (1/1 shards): 100% 6656/6656 [00:00<00:00, 15233.05 examples/s]\n"
     ]
    },
    {
     "name": "stdout",
     "output_type": "stream",
     "text": [
      "Shard 34 completed in 1004.56 seconds\n",
      "Processing shard 58 ...\n"
     ]
    },
    {
     "name": "stderr",
     "output_type": "stream",
     "text": [
      "Phonemizing shard 51:   1% 57/6656 [07:42<9:46:39,  5.33s/ examples] "
     ]
    },
    {
     "name": "stdout",
     "output_type": "stream",
     "text": [
      "Shard 58: 6656 examples to process\n"
     ]
    },
    {
     "name": "stderr",
     "output_type": "stream",
     "text": [
      "Phonemizing shard 33: 100% 6656/6656 [18:32<00:00,  5.98 examples/s]]] \n",
      "Saving the dataset (1/1 shards): 100% 6656/6656 [00:00<00:00, 14259.67 examples/s]\n",
      "Phonemizing shard 24:   4% 261/6656 [18:32<42:55,  2.48 examples/s]"
     ]
    },
    {
     "name": "stdout",
     "output_type": "stream",
     "text": [
      "Shard 33 completed in 1117.50 seconds\n",
      "Processing shard 59 ...\n",
      "Shard 59: 6656 examples to process\n"
     ]
    },
    {
     "name": "stderr",
     "output_type": "stream",
     "text": [
      "Phonemizing shard 35: 100% 6656/6656 [21:27<00:00,  5.17 examples/s]]] \n",
      "Saving the dataset (1/1 shards): 100% 6656/6656 [00:00<00:00, 12595.66 examples/s]\n"
     ]
    },
    {
     "name": "stdout",
     "output_type": "stream",
     "text": [
      "Shard 35 completed in 1292.86 seconds\n",
      "Processing shard 60 ...\n",
      "Shard 60: 6656 examples to process\n"
     ]
    },
    {
     "name": "stderr",
     "output_type": "stream",
     "text": [
      "Phonemizing shard 42: 100% 6656/6656 [26:16<00:00,  4.22 examples/s]]] \n",
      "Saving the dataset (1/1 shards): 100% 6656/6656 [00:00<00:00, 9457.28 examples/s] \n"
     ]
    },
    {
     "name": "stdout",
     "output_type": "stream",
     "text": [
      "Shard 42 completed in 1580.21 seconds"
     ]
    },
    {
     "name": "stderr",
     "output_type": "stream",
     "text": [
      "Phonemizing shard 53:   3% 204/6656 [16:06<12:17:40,  6.86s/ examples]"
     ]
    },
    {
     "name": "stdout",
     "output_type": "stream",
     "text": [
      "\n",
      "Processing shard 61 ...\n",
      "Shard 61: 6656 examples to process\n"
     ]
    },
    {
     "name": "stderr",
     "output_type": "stream",
     "text": [
      "Phonemizing shard 32: 100% 6656/6656 [33:57<00:00,  3.27 examples/s]]  \n",
      "Saving the dataset (1/1 shards): 100% 6656/6656 [00:00<00:00, 10053.68 examples/s]\n"
     ]
    },
    {
     "name": "stdout",
     "output_type": "stream",
     "text": [
      "Shard 32 completed in 2041.04 seconds\n"
     ]
    },
    {
     "name": "stderr",
     "output_type": "stream",
     "text": [
      "Phonemizing shard 47:  74% 4903/6656 [33:56<1:54:18,  3.91s/ examples]"
     ]
    },
    {
     "name": "stdout",
     "output_type": "stream",
     "text": [
      "Processing shard 62 ...\n",
      "Shard 62: 6656 examples to process\n"
     ]
    },
    {
     "name": "stderr",
     "output_type": "stream",
     "text": [
      "Phonemizing shard 60:   3% 176/6656 [18:25<7:44:47,  4.30s/ examples]  "
     ]
    },
    {
     "name": "stdout",
     "output_type": "stream",
     "text": [
      "Processing shard 63 ...\n",
      "Processing shard 64 ...\n"
     ]
    },
    {
     "name": "stderr",
     "output_type": "stream",
     "text": [
      "Phonemizing shard 30:  10% 676/6656 [39:55<4:59:09,  3.00s/ examples]"
     ]
    },
    {
     "name": "stdout",
     "output_type": "stream",
     "text": [
      "Shard 64: 6656 examples to process\n",
      "Shard 63: 6656 examples to process\n"
     ]
    },
    {
     "name": "stderr",
     "output_type": "stream",
     "text": [
      "Phonemizing shard 55:   6% 375/6656 [28:09<6:00:30,  3.44s/ examples]]"
     ]
    },
    {
     "name": "stdout",
     "output_type": "stream",
     "text": [
      "Processing shard 65 ...\n",
      "Processing shard 66 ...Shard 65: 6656 examples to process"
     ]
    },
    {
     "name": "stderr",
     "output_type": "stream",
     "text": [
      "Phonemizing shard 50:  54% 3611/6656 [31:07<1:22:15,  1.62s/ examples]"
     ]
    },
    {
     "name": "stdout",
     "output_type": "stream",
     "text": [
      "\n",
      "\n",
      "Processing shard 67 ...\n",
      "Shard 66: 6656 examples to processProcessing shard 68 ...\n",
      "\n"
     ]
    },
    {
     "name": "stderr",
     "output_type": "stream",
     "text": [
      "Phonemizing shard 50:  54% 3612/6656 [31:07<59:23,  1.17s/ examples]  "
     ]
    },
    {
     "name": "stdout",
     "output_type": "stream",
     "text": [
      "Shard 67: 6656 examples to processProcessing shard 69 ...Shard 68: 6656 examples to process\n",
      "\n",
      "\n",
      "Processing shard 70 ...Shard 69: 6656 examples to process\n",
      "\n",
      "Shard 70: 6656 examples to process\n"
     ]
    },
    {
     "name": "stderr",
     "output_type": "stream",
     "text": [
      "Phonemizing shard 50:  54% 3613/6656 [31:08<46:33,  1.09 examples/s]]"
     ]
    },
    {
     "name": "stdout",
     "output_type": "stream",
     "text": [
      "Processing shard 71 ...\n"
     ]
    },
    {
     "name": "stderr",
     "output_type": "stream",
     "text": [
      "Phonemizing shard 52:   9% 579/6656 [30:28<4:03:45,  2.41s/ examples]"
     ]
    },
    {
     "name": "stdout",
     "output_type": "stream",
     "text": [
      "Shard 71: 6656 examples to process\n"
     ]
    },
    {
     "name": "stderr",
     "output_type": "stream",
     "text": [
      "Phonemizing shard 55:   8% 514/6656 [36:38<3:05:20,  1.81s/ examples]  "
     ]
    },
    {
     "name": "stdout",
     "output_type": "stream",
     "text": [
      "Processing shard 72 ...\n",
      "Shard 72: 6656 examples to process\n"
     ]
    },
    {
     "name": "stderr",
     "output_type": "stream",
     "text": [
      "Phonemizing shard 51:  11% 761/6656 [39:33<3:41:41,  2.26s/ examples] "
     ]
    },
    {
     "name": "stdout",
     "output_type": "stream",
     "text": [
      "Processing shard 73 ...\n"
     ]
    },
    {
     "name": "stderr",
     "output_type": "stream",
     "text": [
      "Phonemizing shard 70:  36% 2429/6656 [08:31<3:32:26,  3.02s/ examples]"
     ]
    },
    {
     "name": "stdout",
     "output_type": "stream",
     "text": [
      "Shard 73: 6656 examples to process\n"
     ]
    },
    {
     "name": "stderr",
     "output_type": "stream",
     "text": [
      "Phonemizing shard 62:   3% 228/6656 [14:49<1:44:42,  1.02 examples/s]]"
     ]
    },
    {
     "name": "stdout",
     "output_type": "stream",
     "text": [
      "Processing shard 74 ...\n",
      "Shard 74: 6656 examples to process"
     ]
    },
    {
     "name": "stderr",
     "output_type": "stream",
     "text": [
      "Phonemizing shard 73:   1% 90/6656 [00:15<13:37,  8.04 examples/s]"
     ]
    },
    {
     "name": "stdout",
     "output_type": "stream",
     "text": [
      "\n"
     ]
    },
    {
     "name": "stderr",
     "output_type": "stream",
     "text": [
      "Phonemizing shard 72:   4% 234/6656 [00:27<09:40, 11.07 examples/s]s] "
     ]
    },
    {
     "name": "stdout",
     "output_type": "stream",
     "text": [
      "Processing shard 75 ...\n",
      "Shard 75: 6656 examples to process\n"
     ]
    },
    {
     "name": "stderr",
     "output_type": "stream",
     "text": [
      "Phonemizing shard 53:   9% 618/6656 [39:18<2:11:00,  1.30s/ examples] "
     ]
    },
    {
     "name": "stdout",
     "output_type": "stream",
     "text": [
      "Processing shard 76 ...\n",
      "Shard 76: 6656 examples to process\n"
     ]
    },
    {
     "name": "stderr",
     "output_type": "stream",
     "text": [
      "Phonemizing shard 69:   6% 372/6656 [10:07<3:02:00,  1.74s/ examples] "
     ]
    },
    {
     "name": "stdout",
     "output_type": "stream",
     "text": [
      "Processing shard 77 ...\n"
     ]
    },
    {
     "name": "stderr",
     "output_type": "stream",
     "text": [
      "Phonemizing shard 72:  16% 1039/6656 [01:39<06:42, 13.95 examples/s]"
     ]
    },
    {
     "name": "stdout",
     "output_type": "stream",
     "text": [
      "Shard 77: 6656 examples to process\n"
     ]
    },
    {
     "name": "stderr",
     "output_type": "stream",
     "text": [
      "Phonemizing shard 73:  12% 832/6656 [01:42<08:48, 11.02 examples/s]]] "
     ]
    },
    {
     "name": "stdout",
     "output_type": "stream",
     "text": [
      "Processing shard 78 ...\n"
     ]
    },
    {
     "name": "stderr",
     "output_type": "stream",
     "text": [
      "Phonemizing shard 73:  13% 834/6656 [01:42<08:39, 11.22 examples/s]"
     ]
    },
    {
     "name": "stdout",
     "output_type": "stream",
     "text": [
      "Shard 78: 6656 examples to process"
     ]
    },
    {
     "name": "stderr",
     "output_type": "stream",
     "text": [
      "Phonemizing shard 58:  10% 676/6656 [33:33<4:51:38,  2.93s/ examples]"
     ]
    },
    {
     "name": "stdout",
     "output_type": "stream",
     "text": [
      "\n"
     ]
    },
    {
     "name": "stderr",
     "output_type": "stream",
     "text": [
      "Phonemizing shard 61:   7% 459/6656 [25:27<4:14:56,  2.47s/ examples]]"
     ]
    },
    {
     "name": "stdout",
     "output_type": "stream",
     "text": [
      "Processing shard 79 ...\n",
      "Shard 79: 6656 examples to process\n"
     ]
    },
    {
     "name": "stderr",
     "output_type": "stream",
     "text": [
      "Phonemizing shard 70:  38% 2554/6656 [13:48<29:27,  2.32 examples/s]s] "
     ]
    },
    {
     "name": "stdout",
     "output_type": "stream",
     "text": [
      "Processing shard 80 ...\n",
      "Shard 80: 6656 examples to process\n"
     ]
    },
    {
     "name": "stderr",
     "output_type": "stream",
     "text": [
      "Phonemizing shard 59:  25% 1632/6656 [36:56<1:01:27,  1.36 examples/s] "
     ]
    },
    {
     "name": "stdout",
     "output_type": "stream",
     "text": [
      "Processing shard 81 ...\n",
      "Shard 81: 6656 examples to process"
     ]
    },
    {
     "name": "stderr",
     "output_type": "stream",
     "text": [
      "Phonemizing shard 61:   8% 552/6656 [29:13<4:43:51,  2.79s/ examples]"
     ]
    },
    {
     "name": "stdout",
     "output_type": "stream",
     "text": [
      "\n"
     ]
    },
    {
     "name": "stderr",
     "output_type": "stream",
     "text": [
      "Phonemizing shard 74:  48% 3172/6656 [07:50<00:54, 63.72 examples/s]s]"
     ]
    },
    {
     "name": "stdout",
     "output_type": "stream",
     "text": [
      "Processing shard 82 ...\n",
      "Shard 82: 6656 examples to process\n"
     ]
    },
    {
     "name": "stderr",
     "output_type": "stream",
     "text": [
      "Phonemizing shard 66:   5% 327/6656 [18:33<2:57:29,  1.68s/ examples]] "
     ]
    },
    {
     "name": "stdout",
     "output_type": "stream",
     "text": [
      "Processing shard 83 ...\n",
      "Shard 83: 6656 examples to process\n"
     ]
    },
    {
     "name": "stderr",
     "output_type": "stream",
     "text": [
      "Phonemizing shard 73:  33% 2208/6656 [12:55<06:54, 10.73 examples/s]]] "
     ]
    },
    {
     "name": "stdout",
     "output_type": "stream",
     "text": [
      "Processing shard 84 ...\n",
      "Shard 84: 6656 examples to process\n"
     ]
    },
    {
     "name": "stderr",
     "output_type": "stream",
     "text": [
      "Phonemizing shard 71:  78% 5193/6656 [26:15<00:24, 59.91 examples/s]]] "
     ]
    },
    {
     "name": "stdout",
     "output_type": "stream",
     "text": [
      "Processing shard 85 ...\n",
      "Shard 85: 6656 examples to process\n"
     ]
    },
    {
     "name": "stderr",
     "output_type": "stream",
     "text": [
      "Phonemizing shard 83:   5% 345/6656 [15:21<5:03:36,  2.89s/ examples]]es]"
     ]
    },
    {
     "name": "stdout",
     "output_type": "stream",
     "text": [
      "Processing shard 86 ...\n",
      "Shard 86: 6656 examples to process\n"
     ]
    },
    {
     "name": "stderr",
     "output_type": "stream",
     "text": [
      "Phonemizing shard 73: 100% 6656/6656 [25:42<00:00,  4.32 examples/s]]]\n",
      "Saving the dataset (1/1 shards): 100% 6656/6656 [00:00<00:00, 24623.63 examples/s]\n"
     ]
    },
    {
     "name": "stdout",
     "output_type": "stream",
     "text": [
      "Shard 73 completed in 1544.58 seconds\n",
      "Processing shard 87 ...\n"
     ]
    },
    {
     "name": "stderr",
     "output_type": "stream",
     "text": [
      "Phonemizing shard 69:  18% 1197/6656 [34:15<5:09:59,  3.41s/ examples]"
     ]
    },
    {
     "name": "stdout",
     "output_type": "stream",
     "text": [
      "Shard 87: 6656 examples to process\n"
     ]
    },
    {
     "name": "stderr",
     "output_type": "stream",
     "text": [
      "Phonemizing shard 71: 100% 6656/6656 [34:35<00:00,  3.21 examples/s]]]\n",
      "Saving the dataset (1/1 shards): 100% 6656/6656 [00:00<00:00, 18341.16 examples/s]\n"
     ]
    },
    {
     "name": "stdout",
     "output_type": "stream",
     "text": [
      "Shard 71 completed in 2078.49 seconds\n",
      "Processing shard 88 ...\n",
      "Shard 88: 6656 examples to process\n"
     ]
    },
    {
     "name": "stderr",
     "output_type": "stream",
     "text": [
      "Phonemizing shard 88:   2% 123/6656 [05:17<1:48:16,  1.01 examples/s]  "
     ]
    },
    {
     "name": "stdout",
     "output_type": "stream",
     "text": [
      "Processing shard 89 ...\n"
     ]
    },
    {
     "name": "stderr",
     "output_type": "stream",
     "text": [
      "Phonemizing shard 81:  11% 765/6656 [24:22<1:44:55,  1.07s/ examples]"
     ]
    },
    {
     "name": "stdout",
     "output_type": "stream",
     "text": [
      "Processing shard 90 ...\n",
      "Shard 89: 6656 examples to process\n",
      "Shard 90: 6656 examples to process\n"
     ]
    },
    {
     "name": "stderr",
     "output_type": "stream",
     "text": [
      "Phonemizing shard 68:  12% 800/6656 [39:57<3:49:47,  2.35s/ examples]]"
     ]
    },
    {
     "name": "stdout",
     "output_type": "stream",
     "text": [
      "Processing shard 91 ...\n",
      "Processing shard 92 ...\n",
      "Shard 91: 6656 examples to processShard 92: 6656 examples to process\n",
      "\n"
     ]
    },
    {
     "name": "stderr",
     "output_type": "stream",
     "text": [
      "Phonemizing shard 75:  10% 691/6656 [31:00<7:20:03,  4.43s/ examples] "
     ]
    },
    {
     "name": "stdout",
     "output_type": "stream",
     "text": [
      "Processing shard 93 ..."
     ]
    },
    {
     "name": "stderr",
     "output_type": "stream",
     "text": [
      "Phonemizing shard 86:   1% 88/6656 [05:59<4:34:17,  2.51s/ examples]"
     ]
    },
    {
     "name": "stdout",
     "output_type": "stream",
     "text": [
      "\n"
     ]
    },
    {
     "name": "stderr",
     "output_type": "stream",
     "text": [
      "Phonemizing shard 89:   0% 0/6656 [00:00<?, ? examples/s]"
     ]
    },
    {
     "name": "stdout",
     "output_type": "stream",
     "text": [
      "Shard 93: 6656 examples to processProcessing shard 94 ...\n",
      "\n",
      "Processing shard 95 ..."
     ]
    },
    {
     "name": "stderr",
     "output_type": "stream",
     "text": [
      "Phonemizing shard 90:   0% 0/6656 [00:00<?, ? examples/s]"
     ]
    },
    {
     "name": "stdout",
     "output_type": "stream",
     "text": [
      "\n"
     ]
    },
    {
     "name": "stderr",
     "output_type": "stream",
     "text": [
      "Phonemizing shard 81:  12% 767/6656 [24:24<1:40:36,  1.03s/ examples]"
     ]
    },
    {
     "name": "stdout",
     "output_type": "stream",
     "text": [
      "Shard 95: 6656 examples to process"
     ]
    },
    {
     "name": "stderr",
     "output_type": "stream",
     "text": [
      "Phonemizing shard 75:  10% 692/6656 [31:00<5:29:19,  3.31s/ examples]"
     ]
    },
    {
     "name": "stdout",
     "output_type": "stream",
     "text": [
      "Shard 94: 6656 examples to processProcessing shard 96 ...\n",
      "\n",
      "\n"
     ]
    },
    {
     "name": "stderr",
     "output_type": "stream",
     "text": [
      "Phonemizing shard 82:  11% 724/6656 [23:16<4:28:04,  2.71s/ examples]"
     ]
    },
    {
     "name": "stdout",
     "output_type": "stream",
     "text": [
      "Shard 96: 6656 examples to process\n"
     ]
    },
    {
     "name": "stderr",
     "output_type": "stream",
     "text": [
      "Phonemizing shard 87:  16% 1053/6656 [14:08<4:36:38,  2.96s/ examples] s]"
     ]
    },
    {
     "name": "stdout",
     "output_type": "stream",
     "text": [
      "Processing shard 97 ..."
     ]
    },
    {
     "name": "stderr",
     "output_type": "stream",
     "text": [
      "Phonemizing shard 78:  13% 885/6656 [38:08<1:02:26,  1.54 examples/s]]"
     ]
    },
    {
     "name": "stdout",
     "output_type": "stream",
     "text": [
      "\n",
      "Shard 97: 6656 examples to process\n"
     ]
    },
    {
     "name": "stderr",
     "output_type": "stream",
     "text": [
      "Phonemizing shard 76:  15% 966/6656 [39:18<1:43:03,  1.09s/ examples]]"
     ]
    },
    {
     "name": "stdout",
     "output_type": "stream",
     "text": [
      "Processing shard 98 ...\n",
      "Shard 98: 6656 examples to process\n"
     ]
    },
    {
     "name": "stderr",
     "output_type": "stream",
     "text": [
      "Phonemizing shard 77:  19% 1283/6656 [38:46<5:43:58,  3.84s/ examples]"
     ]
    },
    {
     "name": "stdout",
     "output_type": "stream",
     "text": [
      "Processing shard 99 ...\n",
      "Shard 99: 6656 examples to process\n"
     ]
    },
    {
     "name": "stderr",
     "output_type": "stream",
     "text": [
      "Phonemizing shard 99:  43% 2881/6656 [39:55<40:31,  1.55 examples/s]   "
     ]
    },
    {
     "name": "stdout",
     "output_type": "stream",
     "text": [
      "Processing completed. Failed shards: 0\n"
     ]
    }
   ],
   "source": [
    "# Update the processing cell with better timeout and worker settings\n",
    "\n",
    "import os\n",
    "from pebble import ProcessPool\n",
    "from concurrent.futures import TimeoutError\n",
    "\n",
    "# Reduce workers to avoid resource contention and increase timeout\n",
    "max_workers = 24  # Reduced from 20\n",
    "timeout_seconds = 2400  # Increased to 30 minutes\n",
    "failed_shards = []\n",
    "\n",
    "print(f\"Processing {num_shards} shards with {max_workers} workers...\")\n",
    "print(f\"Timeout set to {timeout_seconds} seconds ({timeout_seconds//60} minutes)\")\n",
    "\n",
    "with ProcessPool(max_workers=max_workers) as pool:\n",
    "    future = pool.map(process_shard, range(num_shards), timeout=timeout_seconds)\n",
    "    \n",
    "    try:\n",
    "        for i, result in enumerate(future.result()):\n",
    "            if isinstance(result, Exception):\n",
    "                print(f\"Shard {i} failed: {result}\")\n",
    "                failed_shards.append(i)\n",
    "            else:\n",
    "                if i % 10 == 0:  # Progress indicator\n",
    "                    print(f\"Completed {i+1}/{num_shards} shards\")\n",
    "    except Exception as e:\n",
    "        print(f\"Processing error: {e}\")\n",
    "\n",
    "print(f\"Processing completed. Failed shards: {len(failed_shards)}\")\n",
    "if failed_shards:\n",
    "    print(f\"Failed shard indices: {failed_shards}\")"
   ]
  },
  {
   "cell_type": "code",
   "execution_count": 12,
   "id": "66742159",
   "metadata": {},
   "outputs": [
    {
     "name": "stdout",
     "output_type": "stream",
     "text": [
      "Existing shards: 17/100\n",
      "Pending shards: 83\n",
      "Processing 83 pending shards...\n"
     ]
    }
   ],
   "source": [
    "# Add this cell before processing to check existing shards\n",
    "\n",
    "def check_existing_shards():\n",
    "    \"\"\"Check which shards already exist\"\"\"\n",
    "    existing_shards = []\n",
    "    pending_shards = []\n",
    "    \n",
    "    for i in range(num_shards):\n",
    "        directory = root_directory + \"/shard_\" + str(i)\n",
    "        if os.path.exists(directory):\n",
    "            existing_shards.append(i)\n",
    "        else:\n",
    "            pending_shards.append(i)\n",
    "    \n",
    "    print(f\"Existing shards: {len(existing_shards)}/{num_shards}\")\n",
    "    print(f\"Pending shards: {len(pending_shards)}\")\n",
    "    \n",
    "    return pending_shards\n",
    "\n",
    "# Check existing shards first\n",
    "pending_shards = check_existing_shards()\n",
    "\n",
    "if not pending_shards:\n",
    "    print(\"All shards already processed!\")\n",
    "else:\n",
    "    print(f\"Processing {len(pending_shards)} pending shards...\")"
   ]
  },
  {
   "cell_type": "code",
   "execution_count": null,
   "id": "f1d8eb6a",
   "metadata": {},
   "outputs": [
    {
     "name": "stdout",
     "output_type": "stream",
     "text": [
      "Processing 83 pending shards...\n",
      "Processing shard 2 ...Processing shard 0 ...Processing shard 1 ...Processing shard 3 ...\n",
      "\n",
      "Processing shard 4 ...\n",
      "\n",
      "Processing shard 5 ...Processing shard 6 ...Processing shard 8 ...\n",
      "Processing shard 7 ...\n",
      "Processing shard 9 ...Processing shard 10 ...\n",
      "\n",
      "Processing shard 11 ...\n",
      "\n",
      "\n",
      "Processing shard 14 ...Shard 0: 6657 examples to processShard 3: 6657 examples to processProcessing shard 13 ...Shard 5: 6657 examples to processProcessing shard 15 ...Shard 1: 6657 examples to processShard 6: 6657 examples to processShard 7: 6657 examples to processShard 2: 6657 examples to process\n",
      "Processing shard 16 ...\n",
      "Shard 4: 6657 examples to processShard 8: 6657 examples to process\n",
      "\n",
      "Processing shard 12 ...\n",
      "\n",
      "Processing shard 20 ...\n",
      "\n",
      "Processing shard 17 ...Processing shard 19 ...\n",
      "\n",
      "Processing shard 22 ...\n",
      "\n",
      "\n",
      "Shard 10: 6657 examples to process\n",
      "Shard 9: 6657 examples to processProcessing shard 18 ...Processing shard 21 ...\n",
      "\n",
      "\n",
      "\n",
      "\n",
      "Shard 14: 6657 examples to processShard 15: 6657 examples to process\n",
      "\n",
      "Processing shard 23 ...\n",
      "\n",
      "Shard 19: 6657 examples to processShard 17: 6657 examples to process\n",
      "\n",
      "Shard 13: 6657 examples to process\n",
      "\n",
      "Shard 12: 6657 examples to process\n",
      "Shard 16: 6657 examples to processShard 21: 6657 examples to processShard 11: 6657 examples to process\n",
      "\n",
      "\n",
      "\n",
      "Shard 18: 6657 examples to process\n",
      "\n",
      "Shard 20: 6657 examples to processShard 22: 6656 examples to process\n",
      "\n",
      "Shard 23: 6656 examples to process\n"
     ]
    },
    {
     "name": "stderr",
     "output_type": "stream",
     "text": [
      "Phonemizing shard 10:   9% 612/6657 [49:56<5:24:37,  3.22s/ examples]]]"
     ]
    },
    {
     "name": "stdout",
     "output_type": "stream",
     "text": [
      "Processing error: [Errno Task timeout] 3000\n"
     ]
    },
    {
     "name": "stderr",
     "output_type": "stream",
     "text": [
      "Phonemizing shard 23:  16% 1084/6656 [49:57<3:18:50,  2.14s/ examples]"
     ]
    },
    {
     "name": "stdout",
     "output_type": "stream",
     "text": [
      "Processing shard 24 ...\n",
      "Processing shard 25 ...Shard 24: 6656 examples to process\n",
      "\n",
      "Processing shard 26 ...Shard 25: 6656 examples to process\n",
      "\n",
      "Shard 26: 6656 examples to processProcessing shard 27 ...\n",
      "\n",
      "Shard 27: 6656 examples to processProcessing shard 28 ...\n",
      "\n",
      "Processing shard 29 ...Shard 28: 6656 examples to process\n",
      "\n",
      "Processing shard 30 ...\n",
      "Shard 29: 6656 examples to process\n",
      "Processing shard 31 ...Shard 30: 6656 examples to process\n",
      "\n",
      "Processing shard 47 ...Shard 31: 6656 examples to process\n",
      "\n"
     ]
    },
    {
     "name": "stderr",
     "output_type": "stream",
     "text": [
      "Phonemizing shard 21:  52% 3487/6657 [49:56<25:48,  2.05 examples/s]"
     ]
    },
    {
     "name": "stdout",
     "output_type": "stream",
     "text": [
      "Shard 47: 6656 examples to processProcessing shard 48 ...\n",
      "\n",
      "Processing shard 49 ...Shard 48: 6656 examples to process\n",
      "Processing shard 50 ...\n",
      "\n",
      "Processing shard 51 ...\n",
      "Shard 50: 6656 examples to process\n",
      "Shard 51: 6656 examples to process\n",
      "Shard 49: 6656 examples to processProcessing shard 52 ...Processing shard 53 ...\n",
      "\n",
      "\n",
      "Processing shard 54 ...\n",
      "Shard 52: 6656 examples to processShard 53: 6656 examples to process\n",
      "Shard 54: 6656 examples to process\n",
      "\n"
     ]
    },
    {
     "name": "stderr",
     "output_type": "stream",
     "text": [
      "Phonemizing shard 20:  49% 3250/6657 [49:59<04:39, 12.21 examples/s]s]"
     ]
    },
    {
     "name": "stdout",
     "output_type": "stream",
     "text": [
      "Processing shard 55 ...Processing shard 56 ...\n",
      "\n"
     ]
    },
    {
     "name": "stderr",
     "output_type": "stream",
     "text": [
      "Phonemizing shard 25:   0% 0/6656 [00:00<?, ? examples/s]"
     ]
    },
    {
     "name": "stdout",
     "output_type": "stream",
     "text": [
      "Shard 55: 6656 examples to processProcessing shard 57 ...\n",
      "\n",
      "Processing shard 58 ...\n",
      "Shard 56: 6656 examples to processShard 58: 6656 examples to processProcessing shard 59 ...Shard 57: 6656 examples to process\n"
     ]
    },
    {
     "name": "stderr",
     "output_type": "stream",
     "text": [
      "Phonemizing shard 24:   0% 0/6656 [00:00<?, ? examples/s]"
     ]
    },
    {
     "name": "stdout",
     "output_type": "stream",
     "text": [
      "\n",
      "\n",
      "\n"
     ]
    },
    {
     "name": "stderr",
     "output_type": "stream",
     "text": [
      "Phonemizing shard 28:   0% 0/6656 [00:00<?, ? examples/s]"
     ]
    },
    {
     "name": "stdout",
     "output_type": "stream",
     "text": [
      "Shard 59: 6656 examples to process"
     ]
    },
    {
     "name": "stderr",
     "output_type": "stream",
     "text": [
      "Phonemizing shard 26:   0% 0/6656 [00:00<?, ? examples/s]"
     ]
    },
    {
     "name": "stdout",
     "output_type": "stream",
     "text": [
      "\n",
      "Processing shard 60 ..."
     ]
    },
    {
     "name": "stderr",
     "output_type": "stream",
     "text": [
      "Phonemizing shard 31:   0% 0/6656 [00:00<?, ? examples/s]"
     ]
    },
    {
     "name": "stdout",
     "output_type": "stream",
     "text": [
      "Processing shard 61 ...\n",
      "\n",
      "Shard 60: 6656 examples to processShard 61: 6656 examples to processProcessing shard 62 ...\n",
      "\n",
      "\n",
      "Shard 62: 6656 examples to process\n"
     ]
    },
    {
     "name": "stderr",
     "output_type": "stream",
     "text": [
      "Phonemizing shard 59:  43% 2879/6656 [49:53<2:26:07,  2.32s/ examples] "
     ]
    },
    {
     "name": "stdout",
     "output_type": "stream",
     "text": [
      "Processing shard 63 ...\n",
      "Processing shard 64 ...\n",
      "Shard 63: 6656 examples to processShard 64: 6656 examples to process\n",
      "Processing shard 65 ...\n",
      "\n",
      "Shard 65: 6656 examples to process\n"
     ]
    },
    {
     "name": "stderr",
     "output_type": "stream",
     "text": [
      "Phonemizing shard 64:   0% 0/6656 [00:00<?, ? examples/s]examples/s]]]"
     ]
    },
    {
     "name": "stdout",
     "output_type": "stream",
     "text": [
      "Processing shard 66 ...\n",
      "Processing shard 67 ..."
     ]
    },
    {
     "name": "stderr",
     "output_type": "stream",
     "text": [
      "Phonemizing shard 65:   0% 0/6656 [00:00<?, ? examples/s]"
     ]
    },
    {
     "name": "stdout",
     "output_type": "stream",
     "text": [
      "Shard 66: 6656 examples to process"
     ]
    },
    {
     "name": "stderr",
     "output_type": "stream",
     "text": [
      "Phonemizing shard 63:   0% 0/6656 [00:00<?, ? examples/s]"
     ]
    },
    {
     "name": "stdout",
     "output_type": "stream",
     "text": [
      "\n",
      "\n",
      "Processing shard 68 ...Shard 67: 6656 examples to process\n",
      "Shard 68: 6656 examples to processProcessing shard 69 ...\n",
      "\n",
      "\n",
      "Processing shard 70 ...Shard 69: 6656 examples to process\n",
      "\n",
      "Processing shard 72 ...Shard 70: 6656 examples to process\n",
      "\n",
      "Processing shard 74 ...\n",
      "Processing shard 75 ...\n",
      "Shard 72: 6656 examples to processProcessing shard 76 ...Shard 74: 6656 examples to process\n"
     ]
    },
    {
     "name": "stderr",
     "output_type": "stream",
     "text": [
      "Phonemizing shard 57:  14% 955/6656 [49:56<5:39:43,  3.58s/ examples]"
     ]
    },
    {
     "name": "stdout",
     "output_type": "stream",
     "text": [
      "\n",
      "Shard 75: 6656 examples to process\n",
      "Processing shard 78 ...Processing shard 77 ...\n",
      "\n",
      "\n",
      "Processing shard 79 ...Shard 76: 6656 examples to process\n",
      "\n",
      "Processing shard 80 ...Shard 79: 6656 examples to processShard 78: 6656 examples to process\n",
      "\n",
      "Shard 77: 6656 examples to process"
     ]
    },
    {
     "name": "stderr",
     "output_type": "stream",
     "text": [
      "Phonemizing shard 55:  12% 803/6656 [49:56<8:16:28,  5.09s/ examples] "
     ]
    },
    {
     "name": "stdout",
     "output_type": "stream",
     "text": [
      "\n",
      "\n",
      "Shard 80: 6656 examples to process\n"
     ]
    },
    {
     "name": "stderr",
     "output_type": "stream",
     "text": [
      "Phonemizing shard 61:  13% 840/6656 [49:57<5:56:45,  3.68s/ examples]]"
     ]
    },
    {
     "name": "stdout",
     "output_type": "stream",
     "text": [
      "Processing shard 81 ...Processing shard 82 ...\n",
      "\n",
      "Shard 82: 6656 examples to processProcessing shard 83 ...Processing shard 84 ...\n",
      "Shard 81: 6656 examples to process\n",
      "\n",
      "\n",
      "Processing shard 86 ...Shard 84: 6656 examples to processShard 83: 6656 examples to processProcessing shard 85 ...\n",
      "\n",
      "\n",
      "Processing shard 87 ...\n",
      "Shard 86: 6656 examples to process\n",
      "\n",
      "Processing shard 88 ...\n",
      "Shard 85: 6656 examples to process\n",
      "Shard 87: 6656 examples to process\n",
      "Shard 88: 6656 examples to process\n"
     ]
    },
    {
     "name": "stderr",
     "output_type": "stream",
     "text": [
      "Phonemizing shard 78:   0% 0/6656 [00:00<?, ? examples/s]"
     ]
    }
   ],
   "source": [
    "# Process only pending shards\n",
    "\n",
    "if pending_shards:\n",
    "    max_workers = 24  # Conservative number of workers\n",
    "    timeout_seconds = 3000  # 40 minutes timeout\n",
    "    failed_shards = []\n",
    "    \n",
    "    print(f\"Processing {len(pending_shards)} pending shards...\")\n",
    "    \n",
    "    with ProcessPool(max_workers=max_workers) as pool:\n",
    "        future = pool.map(process_shard, pending_shards, timeout=timeout_seconds)\n",
    "        \n",
    "        try:\n",
    "            for i, result in enumerate(future.result()):\n",
    "                if isinstance(result, Exception):\n",
    "                    print(f\"Shard {pending_shards[i]} failed: {result}\")\n",
    "                    failed_shards.append(pending_shards[i])\n",
    "                else:\n",
    "                    if i % 5 == 0:  # Progress indicator every 5 shards\n",
    "                        print(f\"Progress: {i+1}/{len(pending_shards)} shards completed\")\n",
    "        except Exception as e:\n",
    "            print(f\"Processing error: {e}\")\n",
    "    \n",
    "    print(f\"Processing completed. Failed shards: {len(failed_shards)}\")\n",
    "else:\n",
    "    print(\"No pending shards to process!\")"
   ]
  },
  {
   "cell_type": "markdown",
   "id": "b78caee6",
   "metadata": {},
   "source": [
    "### Collect all shards to form the processed dataset"
   ]
  },
  {
   "cell_type": "code",
   "execution_count": null,
   "id": "0568da38",
   "metadata": {},
   "outputs": [],
   "source": [
    "from datasets import load_from_disk, concatenate_datasets\n",
    "\n",
    "output = [dI for dI in os.listdir(root_directory) if os.path.isdir(os.path.join(root_directory,dI))]\n",
    "datasets = []\n",
    "for o in output:\n",
    "    directory = root_directory + \"/\" + o\n",
    "    try:\n",
    "        shard = load_from_disk(directory)\n",
    "        datasets.append(shard)\n",
    "        print(\"%s loaded\" % o)\n",
    "    except:\n",
    "        continue"
   ]
  },
  {
   "cell_type": "code",
   "execution_count": null,
   "id": "c1547f2c",
   "metadata": {},
   "outputs": [],
   "source": [
    "dataset = concatenate_datasets(datasets)\n",
    "dataset.save_to_disk(config['data_folder'])\n",
    "print('Dataset saved to %s' % config['data_folder'])"
   ]
  },
  {
   "cell_type": "code",
   "execution_count": null,
   "id": "ce886d15",
   "metadata": {},
   "outputs": [],
   "source": [
    "# check the dataset size\n",
    "dataset"
   ]
  },
  {
   "cell_type": "markdown",
   "id": "cdf6f6f6",
   "metadata": {},
   "source": [
    "### Remove unneccessary tokens from the pre-trained tokenizer\n",
    "The pre-trained tokenizer contains a lot of tokens that are not used in our dataset, so we need to remove these tokens. We also want to predict the word in lower cases because cases do not matter that much for TTS. Pruning the tokenizer is much faster than training a new tokenizer from scratch. "
   ]
  },
  {
   "cell_type": "code",
   "execution_count": null,
   "id": "28cec407",
   "metadata": {},
   "outputs": [],
   "source": [
    "from simple_loader import FilePathDataset, build_dataloader\n",
    "\n",
    "file_data = FilePathDataset(dataset)\n",
    "loader = build_dataloader(file_data, num_workers=32, batch_size=128)"
   ]
  },
  {
   "cell_type": "code",
   "execution_count": null,
   "id": "0b7504eb",
   "metadata": {},
   "outputs": [],
   "source": [
    "special_token = config['dataset_params']['word_separator']"
   ]
  },
  {
   "cell_type": "code",
   "execution_count": null,
   "id": "0fcb44a2",
   "metadata": {},
   "outputs": [],
   "source": [
    "# get all unique tokens in the entire dataset\n",
    "\n",
    "from tqdm import tqdm\n",
    "\n",
    "unique_index = [special_token]\n",
    "for _, batch in enumerate(tqdm(loader)):\n",
    "    unique_index.extend(batch)\n",
    "    unique_index = list(set(unique_index))"
   ]
  },
  {
   "cell_type": "code",
   "execution_count": null,
   "id": "1445662d",
   "metadata": {},
   "outputs": [],
   "source": [
    "# get each token's lower case\n",
    "\n",
    "lower_tokens = []\n",
    "for t in tqdm(unique_index):\n",
    "    word = tokenizer.decode([t])\n",
    "    if word.lower() != word:\n",
    "        t = tokenizer.encode([word.lower()])[0]\n",
    "        lower_tokens.append(t)\n",
    "    else:\n",
    "        lower_tokens.append(t)"
   ]
  },
  {
   "cell_type": "code",
   "execution_count": null,
   "id": "fa2dea92",
   "metadata": {},
   "outputs": [],
   "source": [
    "lower_tokens = (list(set(lower_tokens)))"
   ]
  },
  {
   "cell_type": "code",
   "execution_count": null,
   "id": "2a76cda1",
   "metadata": {},
   "outputs": [],
   "source": [
    "# redo the mapping for lower number of tokens\n",
    "\n",
    "token_maps = {}\n",
    "for t in tqdm(unique_index):\n",
    "    word = tokenizer.decode([t])\n",
    "    word = word.lower()\n",
    "    new_t = tokenizer.encode([word.lower()])[0]\n",
    "    token_maps[t] = {'word': word, 'token': lower_tokens.index(new_t)}"
   ]
  },
  {
   "cell_type": "code",
   "execution_count": null,
   "id": "c1c94be2",
   "metadata": {},
   "outputs": [],
   "source": [
    "import pickle\n",
    "with open(config['dataset_params']['token_maps'], 'wb') as handle:\n",
    "    pickle.dump(token_maps, handle)\n",
    "print('Token mapper saved to %s' % config['dataset_params']['token_maps'])"
   ]
  },
  {
   "cell_type": "markdown",
   "id": "1c9e968e",
   "metadata": {},
   "source": [
    "### Test the dataset with dataloader\n"
   ]
  },
  {
   "cell_type": "code",
   "execution_count": null,
   "id": "f9025e2f",
   "metadata": {},
   "outputs": [],
   "source": [
    "from dataloader import build_dataloader\n",
    "\n",
    "train_loader = build_dataloader(dataset, batch_size=32, num_workers=0, dataset_config=config['dataset_params'])"
   ]
  },
  {
   "cell_type": "code",
   "execution_count": null,
   "id": "70874215",
   "metadata": {},
   "outputs": [],
   "source": [
    "_, (words, labels, phonemes, input_lengths, masked_indices) = next(enumerate(train_loader))"
   ]
  },
  {
   "cell_type": "code",
   "execution_count": null,
   "id": "33d76831",
   "metadata": {},
   "outputs": [],
   "source": [
    "# Inspect shard content - lihat isi phoneme dari shard tertentu\n",
    "\n",
    "from datasets import load_from_disk\n",
    "\n",
    "def inspect_shard(shard_number, num_samples=5):\n",
    "    \"\"\"\n",
    "    Melihat isi phoneme dari shard tertentu\n",
    "    \n",
    "    Args:\n",
    "        shard_number: nomor shard yang ingin dilihat (0-99)\n",
    "        num_samples: jumlah contoh yang ingin ditampilkan\n",
    "    \"\"\"\n",
    "    shard_directory = f\"{root_directory}/shard_{shard_number}\"\n",
    "    \n",
    "    if not os.path.exists(shard_directory):\n",
    "        print(f\"Shard {shard_number} tidak ada di {shard_directory}\")\n",
    "        return\n",
    "    \n",
    "    try:\n",
    "        # Load shard\n",
    "        shard_data = load_from_disk(shard_directory)\n",
    "        print(f\"Shard {shard_number} info:\")\n",
    "        print(f\"- Total samples: {len(shard_data)}\")\n",
    "        print(f\"- Columns: {shard_data.column_names}\")\n",
    "        print(\"=\"*60)\n",
    "        \n",
    "        # Tampilkan beberapa contoh\n",
    "        for i in range(min(num_samples, len(shard_data))):\n",
    "            sample = shard_data[i]\n",
    "            print(f\"\\nSample {i+1}:\")\n",
    "            print(f\"Input IDs: {sample['input_ids'][:10]}{'...' if len(sample['input_ids']) > 10 else ''}\")\n",
    "            print(f\"Phonemes: {sample['phonemes'][:10]}{'...' if len(sample['phonemes']) > 10 else ''}\")\n",
    "            \n",
    "            # Decode beberapa token untuk melihat isi sebenarnya\n",
    "            if len(sample['input_ids']) > 0:\n",
    "                decoded_words = [tokenizer.decode([token_id]) for token_id in sample['input_ids'][:5]]\n",
    "                print(f\"Decoded words (first 5): {decoded_words}\")\n",
    "            \n",
    "            print(f\"Phonemes (first 5): {sample['phonemes'][:5]}\")\n",
    "            print(\"-\"*40)\n",
    "            \n",
    "    except Exception as e:\n",
    "        print(f\"Error loading shard {shard_number}: {e}\")\n",
    "\n",
    "# Contoh penggunaan: lihat isi shard 0\n",
    "inspect_shard(0, num_samples=3)"
   ]
  },
  {
   "cell_type": "code",
   "execution_count": null,
   "id": "ec70b518",
   "metadata": {},
   "outputs": [],
   "source": [
    "import pandas as pd\n",
    "from tqdm import tqdm\n",
    "\n",
    "def create_excel_from_dataset(dataset_sample, filename=\"wikipedia_processed.xlsx\"):\n",
    "    \"\"\"\n",
    "    Membuat file Excel dari sampel dataset yang telah diproses.\n",
    "    \n",
    "    Args:\n",
    "        dataset_sample: Sampel dari dataset yang akan diproses.\n",
    "        filename: Nama file Excel yang akan disimpan.\n",
    "    \"\"\"\n",
    "    processed_data = []\n",
    "    \n",
    "    print(f\"Processing {len(dataset_sample)} samples to create Excel file...\")\n",
    "    \n",
    "    for sample in tqdm(dataset_sample):\n",
    "        input_ids = sample['input_ids']\n",
    "        phonemes = sample['phonemes']\n",
    "        \n",
    "        # Decode input_ids kembali menjadi teks\n",
    "        # Setiap ID di-decode secara terpisah dan digabungkan dengan spasi\n",
    "        decoded_text = ' '.join([tokenizer.decode([token_id]) for token_id in input_ids])\n",
    "        \n",
    "        # Gabungkan daftar phonemes menjadi satu string\n",
    "        phonemes_str = ' '.join(phonemes)\n",
    "        \n",
    "        processed_data.append({\n",
    "            'text': decoded_text,\n",
    "            'phonemes': phonemes_str,\n",
    "            'input_ids': str(input_ids)  # Simpan sebagai string agar mudah dibaca di Excel\n",
    "        })\n",
    "        \n",
    "    # Buat DataFrame dari data yang diproses\n",
    "    df = pd.DataFrame(processed_data)\n",
    "    \n",
    "    # Simpan DataFrame ke file Excel\n",
    "    df.to_excel(filename, index=False)\n",
    "    print(f\"\\nDataset berhasil disimpan ke {filename}\")\n",
    "\n",
    "# Ambil sebagian kecil dari dataset untuk dibuatkan Excel (misalnya 1000 baris pertama)\n",
    "num_samples_for_excel = 1000\n",
    "\n",
    "# TAMBAHKAN KODE INI UNTUK MENJALANKAN FUNGSI:\n",
    "if len(dataset) > 0:\n",
    "    # Ambil sampel dari dataset\n",
    "    dataset_sample = dataset.select(range(min(num_samples_for_excel, len(dataset))))\n",
    "    \n",
    "    # Jalankan fungsi untuk membuat Excel\n",
    "    create_excel_from_dataset(dataset_sample, \"wikipedia_processed.xlsx\")\n",
    "else:\n",
    "    print(\"Dataset kosong atau belum dimuat!\")"
   ]
  }
 ],
 "metadata": {
  "kernelspec": {
   "display_name": "Swara (PL-BERT-ID)",
   "language": "python",
   "name": "swara"
  },
  "language_info": {
   "codemirror_mode": {
    "name": "ipython",
    "version": 3
   },
   "file_extension": ".py",
   "mimetype": "text/x-python",
   "name": "python",
   "nbconvert_exporter": "python",
   "pygments_lexer": "ipython3",
   "version": "3.13.7"
  }
 },
 "nbformat": 4,
 "nbformat_minor": 5
}
