{
 "cells": [
  {
   "cell_type": "code",
   "execution_count": 1,
   "id": "79340a9d",
   "metadata": {},
   "outputs": [
    {
     "name": "stderr",
     "output_type": "stream",
     "text": [
      "/workspace/src/PL-BERT-ID/.venv/lib/python3.13/site-packages/tqdm/auto.py:21: TqdmWarning: IProgress not found. Please update jupyter and ipywidgets. See https://ipywidgets.readthedocs.io/en/stable/user_install.html\n",
      "  from .autonotebook import tqdm as notebook_tqdm\n"
     ]
    },
    {
     "name": "stdout",
     "output_type": "stream",
     "text": [
      "tokens_pred shape: torch.Size([1, 128, 178])\n",
      "words_pred shape: torch.Size([1, 128, 53314])\n"
     ]
    }
   ],
   "source": [
    "import torch\n",
    "from transformers import AlbertConfig, AlbertModel\n",
    "from model import MultiTaskModel\n",
    "import yaml\n",
    "import pickle\n",
    "\n",
    "# Load config\n",
    "config_path = \"Configs/config.yml\"\n",
    "with open(config_path) as f:\n",
    "    config = yaml.safe_load(f)\n",
    "\n",
    "# Load token_maps if needed for preprocessing/postprocessing\n",
    "with open(config['dataset_params']['token_maps'], 'rb') as handle:\n",
    "    token_maps = pickle.load(handle)\n",
    "\n",
    "# Load model\n",
    "albert_base_configuration = AlbertConfig(**config['model_params'])\n",
    "bert = AlbertModel(albert_base_configuration)\n",
    "model = MultiTaskModel(\n",
    "    bert,\n",
    "    num_vocab=1 + max([m['token'] for m in token_maps.values()]),\n",
    "    num_tokens=config['model_params']['vocab_size'],\n",
    "    hidden_size=config['model_params']['hidden_size']\n",
    ")\n",
    "\n",
    "# Load checkpoint\n",
    "ckpt_path = \"/workspace/src/PL-BERT-ID/Checkpoint/step_12.t7\"\n",
    "checkpoint = torch.load(ckpt_path, map_location='cpu')\n",
    "state_dict = checkpoint['net']\n",
    "from collections import OrderedDict\n",
    "new_state_dict = OrderedDict()\n",
    "for k, v in state_dict.items():\n",
    "    name = k[7:] if k.startswith(\"module.\") else k\n",
    "    new_state_dict[name] = v\n",
    "model.load_state_dict(new_state_dict, strict=False)\n",
    "model.eval()\n",
    "\n",
    "# Example inference\n",
    "# Replace this with your actual preprocessing and input\n",
    "import numpy as np\n",
    "phonemes = torch.tensor(np.random.randint(0, config['model_params']['vocab_size'], (1, 128)), dtype=torch.long)\n",
    "input_lengths = [128]\n",
    "from utils import length_to_mask\n",
    "text_mask = length_to_mask(torch.tensor(input_lengths)).to(phonemes.device)\n",
    "with torch.no_grad():\n",
    "    tokens_pred, words_pred = model(phonemes, attention_mask=(~text_mask).int())\n",
    "print(\"tokens_pred shape:\", tokens_pred.shape)\n",
    "print(\"words_pred shape:\", words_pred.shape)"
   ]
  },
  {
   "cell_type": "code",
   "execution_count": 2,
   "id": "bb29b5f5",
   "metadata": {},
   "outputs": [
    {
     "name": "stdout",
     "output_type": "stream",
     "text": [
      "tokens_pred shape: torch.Size([1, 128, 178])\n",
      "words_pred shape: torch.Size([1, 128, 53314])\n"
     ]
    }
   ],
   "source": [
    "phoneme_str = \"s a y a\"\n",
    "phoneme_list = phoneme_str.split()  # ['s', 'a', 'y', 'a']\n",
    "phoneme_ids = [token_maps[p]['token'] if p in token_maps else 0 for p in phoneme_list]  # 0 = unk\n",
    "\n",
    "# Padding ke panjang tertentu (misal 128)\n",
    "max_len = 128\n",
    "phoneme_ids = phoneme_ids[:max_len] + [0] * (max_len - len(phoneme_ids))\n",
    "phonemes = torch.tensor([phoneme_ids], dtype=torch.long)\n",
    "input_lengths = [len(phoneme_list)]\n",
    "\n",
    "from utils import length_to_mask\n",
    "text_mask = length_to_mask(torch.tensor(input_lengths)).to(phonemes.device)\n",
    "\n",
    "with torch.no_grad():\n",
    "    tokens_pred, words_pred = model(phonemes, attention_mask=(~text_mask).int())\n",
    "print(\"tokens_pred shape:\", tokens_pred.shape)\n",
    "print(\"words_pred shape:\", words_pred.shape)"
   ]
  }
 ],
 "metadata": {
  "kernelspec": {
   "display_name": "PL-BERT-ID",
   "language": "python",
   "name": "python3"
  },
  "language_info": {
   "codemirror_mode": {
    "name": "ipython",
    "version": 3
   },
   "file_extension": ".py",
   "mimetype": "text/x-python",
   "name": "python",
   "nbconvert_exporter": "python",
   "pygments_lexer": "ipython3",
   "version": "3.13.7"
  }
 },
 "nbformat": 4,
 "nbformat_minor": 5
}
